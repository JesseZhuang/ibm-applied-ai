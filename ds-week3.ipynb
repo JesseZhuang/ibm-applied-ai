{
 "cells": [
  {
   "cell_type": "markdown",
   "metadata": {},
   "source": [
    "### standard deviation, 2nd statistical moment\n",
    "\n",
    "$S_N = {\\sqrt {\\frac 1N\\sum_{i=1}^N(x_i-\\bar x)^2}}$\n",
    "\n",
    "### skewness, 3rd statistical moment\n",
    "How assymetrica data is spread around the mean.\n",
    "\n",
    "$ skewness: \\gamma_1 = \\frac 1N\\frac{\\sum_{i=1}^N(x_i-\\bar x)^3}{s^3}$ where $s$ is the standard deviation\n",
    "\n",
    "### kurtosis, 4th statistical moment\n",
    "Shape of skew.\n",
    "\n",
    "$kurtosis = \\frac 1N\\frac{\\sum_{i=1}^N(x_i-\\bar x)^4}{s^4}$"
   ]
  },
  {
   "cell_type": "code",
   "execution_count": 1,
   "metadata": {},
   "outputs": [
    {
     "name": "stdout",
     "output_type": "stream",
     "text": [
      "[1, 2, 4, 5, 34, 1, 32, 4, 34, 2, 1, 3]\n"
     ]
    }
   ],
   "source": [
    "import statistics\n",
    "\n",
    "list1 = [1,2,4,5,34,1,32,4,34,2,1,3]\n",
    "print(list1)"
   ]
  },
  {
   "cell_type": "code",
   "execution_count": 2,
   "metadata": {},
   "outputs": [
    {
     "data": {
      "text/plain": [
       "10.25"
      ]
     },
     "execution_count": 2,
     "metadata": {},
     "output_type": "execute_result"
    }
   ],
   "source": [
    "statistics.mean(list1)"
   ]
  },
  {
   "cell_type": "code",
   "execution_count": 3,
   "metadata": {},
   "outputs": [
    {
     "data": {
      "text/plain": [
       "3.5"
      ]
     },
     "execution_count": 3,
     "metadata": {},
     "output_type": "execute_result"
    }
   ],
   "source": [
    "statistics.median(list1)"
   ]
  },
  {
   "cell_type": "code",
   "execution_count": 4,
   "metadata": {},
   "outputs": [
    {
     "data": {
      "text/plain": [
       "3.5"
      ]
     },
     "execution_count": 4,
     "metadata": {},
     "output_type": "execute_result"
    }
   ],
   "source": [
    "list2 = [1,2,4,5,34,1,32,4,34,2,1,3]\n",
    "statistics.median(list2)"
   ]
  },
  {
   "cell_type": "code",
   "execution_count": 5,
   "metadata": {},
   "outputs": [
    {
     "data": {
      "text/plain": [
       "11.133532932342526"
      ]
     },
     "execution_count": 5,
     "metadata": {},
     "output_type": "execute_result"
    }
   ],
   "source": [
    "list3 = [34,1,23,4,3,3,12,4,3,1]\n",
    "statistics.stdev(list3)"
   ]
  },
  {
   "cell_type": "code",
   "execution_count": 6,
   "metadata": {},
   "outputs": [
    {
     "name": "stdout",
     "output_type": "stream",
     "text": [
      "[49.5, 49.0, 49.504950495049506]\n"
     ]
    }
   ],
   "source": [
    "lists = [range(100), [49]*100, [49]*100 + [100]]\n",
    "\n",
    "def my_mean(l):\n",
    "    return sum(l)/len(l)\n",
    "    \n",
    "mean = list(map(my_mean, lists))\n",
    "print(mean)"
   ]
  },
  {
   "cell_type": "code",
   "execution_count": 7,
   "metadata": {},
   "outputs": [
    {
     "name": "stdout",
     "output_type": "stream",
     "text": [
      "[28.86607004772212, 0.0, 5.0495049504950495]\n"
     ]
    }
   ],
   "source": [
    "from math import sqrt\n",
    "\n",
    "def my_stdev(l):\n",
    "    m = my_mean(l)\n",
    "    return sqrt(sum(list(map(lambda x: pow(x-m, 2), l)))/len(l))\n",
    "\n",
    "stds = list(map(my_stdev, lists))\n",
    "print(stds)"
   ]
  },
  {
   "cell_type": "code",
   "execution_count": 8,
   "metadata": {},
   "outputs": [],
   "source": [
    "def my_kurtosis(l):\n",
    "    sigma = statistics.stdev(l)\n",
    "    return 0 if sigma == 0 else sum(list(map(lambda x: pow(x-statistics.mean(l), 4), l)))/pow(statistics.stdev(l), 4)/len(l)"
   ]
  },
  {
   "cell_type": "code",
   "execution_count": 9,
   "metadata": {},
   "outputs": [
    {
     "name": "stdout",
     "output_type": "stream",
     "text": [
      "[1.7639447524752476, 0, 97.0591118517792]\n"
     ]
    }
   ],
   "source": [
    "print(list(map(my_kurtosis, lists)))"
   ]
  },
  {
   "cell_type": "code",
   "execution_count": 10,
   "metadata": {},
   "outputs": [
    {
     "name": "stdout",
     "output_type": "stream",
     "text": [
      "2.967130444206552\n"
     ]
    }
   ],
   "source": [
    "print(my_kurtosis([34,1,23,4,3,3,12,4,3,1]))"
   ]
  },
  {
   "cell_type": "code",
   "execution_count": null,
   "metadata": {},
   "outputs": [],
   "source": []
  }
 ],
 "metadata": {
  "kernelspec": {
   "display_name": "Python 3.5",
   "language": "python",
   "name": "python3"
  },
  "language_info": {
   "codemirror_mode": {
    "name": "ipython",
    "version": 3
   },
   "file_extension": ".py",
   "mimetype": "text/x-python",
   "name": "python",
   "nbconvert_exporter": "python",
   "pygments_lexer": "ipython3",
   "version": "3.5.5"
  }
 },
 "nbformat": 4,
 "nbformat_minor": 1
}
