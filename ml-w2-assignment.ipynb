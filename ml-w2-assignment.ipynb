{
 "cells": [
  {
   "cell_type": "markdown",
   "metadata": {},
   "source": [
    "This is the second assignment for the Coursera course \"Advanced Machine Learning and Signal Processing\"\n",
    "\n",
    "Again, please insert to code to your ApacheCouchDB based Cloudant instance below using the \"Insert Code\" function of Watson Studio( you've done this in Assignment 1 before)\n",
    "\n",
    "Done, just execute all cells one after the other and you are done - just note that in the last one you have to update your email address (the one you've used for coursera) and obtain a submission token, you get this from the programming assignment directly on coursera.\n",
    "\n",
    "Please fill in the sections labelled with \"###YOUR_CODE_GOES_HERE###\""
   ]
  },
  {
   "cell_type": "code",
   "execution_count": 28,
   "metadata": {},
   "outputs": [],
   "source": [
    "#your cloudant credentials go here\n",
    "# @hidden_cell\n",
    "credentials_1 = {\n",
    "  'password':\"\"\"f65***\"\"\",\n",
    "  'custom_url':'https://***',\n",
    "  'username':'bf5***',\n",
    "  'url':'https://undefined'\n",
    "}\n"
   ]
  },
  {
   "cell_type": "markdown",
   "metadata": {},
   "source": [
    "Let's create a SparkSession object and put the Cloudant credentials into it"
   ]
  },
  {
   "cell_type": "code",
   "execution_count": 29,
   "metadata": {},
   "outputs": [],
   "source": [
    "spark = SparkSession\\\n",
    "    .builder\\\n",
    "    .appName(\"Cloudant Spark SQL Example in Python using temp tables\")\\\n",
    "    .config(\"cloudant.host\",credentials_1['custom_url'].split('@')[1])\\\n",
    "    .config(\"cloudant.username\", credentials_1['username'])\\\n",
    "    .config(\"cloudant.password\",credentials_1['password'])\\\n",
    "    .config(\"jsonstore.rdd.partitions\", 1)\\\n",
    "    .getOrCreate()"
   ]
  },
  {
   "cell_type": "markdown",
   "metadata": {},
   "source": [
    "Now it’s time to have a look at the recorded sensor data. You should see data similar to the one exemplified below….\n"
   ]
  },
  {
   "cell_type": "code",
   "execution_count": 30,
   "metadata": {},
   "outputs": [
    {
     "name": "stdout",
     "output_type": "stream",
     "text": [
      "+-----+--------+-----+-----+-----+--------------------+--------------------+\n",
      "|CLASS|SENSORID|    X|    Y|    Z|                 _id|                _rev|\n",
      "+-----+--------+-----+-----+-----+--------------------+--------------------+\n",
      "|    0|asdfghjk|  0.0|  0.0|  0.0|0e68bda4f806a1436...|1-461daac6b553896...|\n",
      "|    0|asdfghjk| 0.01| 0.01| 0.01|0e68bda4f806a1436...|1-a4b6e8d60269136...|\n",
      "|    0|asdfghjk| 0.01| 0.01| 0.01|0e68bda4f806a1436...|1-a4b6e8d60269136...|\n",
      "|    0|asdfghjk|  0.0|  0.0|  0.0|0e68bda4f806a1436...|1-461daac6b553896...|\n",
      "|    0|asdfghjk|-0.02|-0.02|-0.02|0e68bda4f806a1436...|1-fbc3c86a654a820...|\n",
      "|    0|asdfghjk| 0.01| 0.01| 0.01|0e68bda4f806a1436...|1-a4b6e8d60269136...|\n",
      "|    0|asdfghjk| 0.01| 0.01| 0.01|0e68bda4f806a1436...|1-a4b6e8d60269136...|\n",
      "|    0|asdfghjk|  0.0|  0.0|  0.0|0e68bda4f806a1436...|1-461daac6b553896...|\n",
      "|    0|asdfghjk|-0.02|-0.02|-0.02|0e68bda4f806a1436...|1-fbc3c86a654a820...|\n",
      "|    0|asdfghjk| 0.01| 0.01| 0.01|0e68bda4f806a1436...|1-a4b6e8d60269136...|\n",
      "|    0|asdfghjk|  0.0|  0.0|  0.0|0e68bda4f806a1436...|1-461daac6b553896...|\n",
      "|    0|asdfghjk|  0.0|  0.0|  0.0|0e68bda4f806a1436...|1-461daac6b553896...|\n",
      "|    0|asdfghjk|-0.01|-0.01|-0.01|0e68bda4f806a1436...|1-c1f52a49af5db18...|\n",
      "|    0|asdfghjk|  0.0|  0.0|  0.0|0e68bda4f806a1436...|1-461daac6b553896...|\n",
      "|    0|asdfghjk|  0.0|  0.0|  0.0|0e68bda4f806a1436...|1-461daac6b553896...|\n",
      "|    0|asdfghjk| 0.01| 0.01| 0.01|0e68bda4f806a1436...|1-a4b6e8d60269136...|\n",
      "|    0|asdfghjk| 0.01| 0.01| 0.01|0e68bda4f806a1436...|1-a4b6e8d60269136...|\n",
      "|    0|asdfghjk| 0.02| 0.02| 0.02|0e68bda4f806a1436...|1-5c4226e5c41f324...|\n",
      "|    0|asdfghjk|  0.0|  0.0|  0.0|0e68bda4f806a1436...|1-461daac6b553896...|\n",
      "|    0|asdfghjk|-0.01|-0.01|-0.01|0e68bda4f806a1436...|1-c1f52a49af5db18...|\n",
      "+-----+--------+-----+-----+-----+--------------------+--------------------+\n",
      "only showing top 20 rows\n",
      "\n"
     ]
    }
   ],
   "source": [
    "df=spark.read.load('shake_classification', \"com.cloudant.spark\")\n",
    "\n",
    "df.createOrReplaceTempView(\"df\")\n",
    "spark.sql(\"SELECT * from df\").show()\n"
   ]
  },
  {
   "cell_type": "markdown",
   "metadata": {},
   "source": [
    "Please create a VectorAssembler which consumed columns X, Y and Z and produces a column “features”\n"
   ]
  },
  {
   "cell_type": "code",
   "execution_count": 31,
   "metadata": {},
   "outputs": [],
   "source": [
    "from pyspark.ml.feature import StringIndexer\n",
    "from pyspark.ml.feature import OneHotEncoder\n",
    "from pyspark.ml.feature import VectorAssembler\n",
    "from pyspark.ml.feature import Normalizer\n",
    "\n",
    "indexer = StringIndexer(inputCol=\"CLASS\", outputCol=\"label\")\n",
    "encoder = OneHotEncoder(inputCol=\"label\", outputCol=\"labelVec\")\n",
    "vectorAssembler = VectorAssembler(inputCols=[\"X\",\"Y\",\"Z\"],\n",
    "                                  outputCol=\"features\")\n",
    "normalizer = Normalizer(inputCol=\"features\", outputCol=\"features_norm\", p=1.0)"
   ]
  },
  {
   "cell_type": "markdown",
   "metadata": {},
   "source": [
    "Please insatiate a classifier from the SparkML package and assign it to the classifier variable. Make sure to either\n",
    "1.\tRename the “CLASS” column to “label” or\n",
    "2.\tSpecify the label-column correctly to be “CLASS”\n"
   ]
  },
  {
   "cell_type": "code",
   "execution_count": 55,
   "metadata": {},
   "outputs": [],
   "source": [
    "# LogisticReg accuracy was 54.7% Naive Bayes requires non-negative data\n",
    "# https://spark.apache.org/docs/2.3.0/ml-classification-regression.html#gradient-boosted-tree-classifier\n",
    "# from pyspark.ml.classification import LogisticRegression\n",
    "# classifier = LogisticRegression(maxIter=200, regParam=0.2, elasticNetParam=0.8)\n",
    "\n",
    "from pyspark.ml.classification import GBTClassifier\n",
    "classifier = GBTClassifier(labelCol=\"label\", featuresCol=\"features_norm\", maxIter=10)"
   ]
  },
  {
   "cell_type": "markdown",
   "metadata": {},
   "source": [
    "Let’s train and evaluate…\n"
   ]
  },
  {
   "cell_type": "code",
   "execution_count": 56,
   "metadata": {},
   "outputs": [],
   "source": [
    "from pyspark.ml import Pipeline\n",
    "# pipeline = Pipeline(stages=[vectorAssembler, classifier])\n",
    "pipeline = Pipeline(stages=[indexer, encoder, vectorAssembler, normalizer,classifier])"
   ]
  },
  {
   "cell_type": "code",
   "execution_count": 57,
   "metadata": {},
   "outputs": [],
   "source": [
    "model = pipeline.fit(df)"
   ]
  },
  {
   "cell_type": "code",
   "execution_count": 58,
   "metadata": {},
   "outputs": [],
   "source": [
    "prediction = model.transform(df)"
   ]
  },
  {
   "cell_type": "code",
   "execution_count": 59,
   "metadata": {},
   "outputs": [
    {
     "name": "stdout",
     "output_type": "stream",
     "text": [
      "+-----+--------+-----+-----+-----+--------------------+--------------------+-----+-------------+-------------------+--------------------+----------+\n",
      "|CLASS|SENSORID|    X|    Y|    Z|                 _id|                _rev|label|     labelVec|           features|       features_norm|prediction|\n",
      "+-----+--------+-----+-----+-----+--------------------+--------------------+-----+-------------+-------------------+--------------------+----------+\n",
      "|    0|asdfghjk|  0.0|  0.0|  0.0|0e68bda4f806a1436...|1-461daac6b553896...|  0.0|(1,[0],[1.0])|          (3,[],[])|           (3,[],[])|       0.0|\n",
      "|    0|asdfghjk| 0.01| 0.01| 0.01|0e68bda4f806a1436...|1-a4b6e8d60269136...|  0.0|(1,[0],[1.0])|   [0.01,0.01,0.01]|[0.33333333333333...|       0.0|\n",
      "|    0|asdfghjk| 0.01| 0.01| 0.01|0e68bda4f806a1436...|1-a4b6e8d60269136...|  0.0|(1,[0],[1.0])|   [0.01,0.01,0.01]|[0.33333333333333...|       0.0|\n",
      "|    0|asdfghjk|  0.0|  0.0|  0.0|0e68bda4f806a1436...|1-461daac6b553896...|  0.0|(1,[0],[1.0])|          (3,[],[])|           (3,[],[])|       0.0|\n",
      "|    0|asdfghjk|-0.02|-0.02|-0.02|0e68bda4f806a1436...|1-fbc3c86a654a820...|  0.0|(1,[0],[1.0])|[-0.02,-0.02,-0.02]|[-0.3333333333333...|       0.0|\n",
      "|    0|asdfghjk| 0.01| 0.01| 0.01|0e68bda4f806a1436...|1-a4b6e8d60269136...|  0.0|(1,[0],[1.0])|   [0.01,0.01,0.01]|[0.33333333333333...|       0.0|\n",
      "|    0|asdfghjk| 0.01| 0.01| 0.01|0e68bda4f806a1436...|1-a4b6e8d60269136...|  0.0|(1,[0],[1.0])|   [0.01,0.01,0.01]|[0.33333333333333...|       0.0|\n",
      "|    0|asdfghjk|  0.0|  0.0|  0.0|0e68bda4f806a1436...|1-461daac6b553896...|  0.0|(1,[0],[1.0])|          (3,[],[])|           (3,[],[])|       0.0|\n",
      "|    0|asdfghjk|-0.02|-0.02|-0.02|0e68bda4f806a1436...|1-fbc3c86a654a820...|  0.0|(1,[0],[1.0])|[-0.02,-0.02,-0.02]|[-0.3333333333333...|       0.0|\n",
      "|    0|asdfghjk| 0.01| 0.01| 0.01|0e68bda4f806a1436...|1-a4b6e8d60269136...|  0.0|(1,[0],[1.0])|   [0.01,0.01,0.01]|[0.33333333333333...|       0.0|\n",
      "|    0|asdfghjk|  0.0|  0.0|  0.0|0e68bda4f806a1436...|1-461daac6b553896...|  0.0|(1,[0],[1.0])|          (3,[],[])|           (3,[],[])|       0.0|\n",
      "|    0|asdfghjk|  0.0|  0.0|  0.0|0e68bda4f806a1436...|1-461daac6b553896...|  0.0|(1,[0],[1.0])|          (3,[],[])|           (3,[],[])|       0.0|\n",
      "|    0|asdfghjk|-0.01|-0.01|-0.01|0e68bda4f806a1436...|1-c1f52a49af5db18...|  0.0|(1,[0],[1.0])|[-0.01,-0.01,-0.01]|[-0.3333333333333...|       0.0|\n",
      "|    0|asdfghjk|  0.0|  0.0|  0.0|0e68bda4f806a1436...|1-461daac6b553896...|  0.0|(1,[0],[1.0])|          (3,[],[])|           (3,[],[])|       0.0|\n",
      "|    0|asdfghjk|  0.0|  0.0|  0.0|0e68bda4f806a1436...|1-461daac6b553896...|  0.0|(1,[0],[1.0])|          (3,[],[])|           (3,[],[])|       0.0|\n",
      "|    0|asdfghjk| 0.01| 0.01| 0.01|0e68bda4f806a1436...|1-a4b6e8d60269136...|  0.0|(1,[0],[1.0])|   [0.01,0.01,0.01]|[0.33333333333333...|       0.0|\n",
      "|    0|asdfghjk| 0.01| 0.01| 0.01|0e68bda4f806a1436...|1-a4b6e8d60269136...|  0.0|(1,[0],[1.0])|   [0.01,0.01,0.01]|[0.33333333333333...|       0.0|\n",
      "|    0|asdfghjk| 0.02| 0.02| 0.02|0e68bda4f806a1436...|1-5c4226e5c41f324...|  0.0|(1,[0],[1.0])|   [0.02,0.02,0.02]|[0.33333333333333...|       0.0|\n",
      "|    0|asdfghjk|  0.0|  0.0|  0.0|0e68bda4f806a1436...|1-461daac6b553896...|  0.0|(1,[0],[1.0])|          (3,[],[])|           (3,[],[])|       0.0|\n",
      "|    0|asdfghjk|-0.01|-0.01|-0.01|0e68bda4f806a1436...|1-c1f52a49af5db18...|  0.0|(1,[0],[1.0])|[-0.01,-0.01,-0.01]|[-0.3333333333333...|       0.0|\n",
      "+-----+--------+-----+-----+-----+--------------------+--------------------+-----+-------------+-------------------+--------------------+----------+\n",
      "only showing top 20 rows\n",
      "\n"
     ]
    }
   ],
   "source": [
    "prediction.show()"
   ]
  },
  {
   "cell_type": "code",
   "execution_count": 60,
   "metadata": {},
   "outputs": [
    {
     "name": "stdout",
     "output_type": "stream",
     "text": [
      "root\n",
      " |-- CLASS: long (nullable = true)\n",
      " |-- SENSORID: string (nullable = true)\n",
      " |-- X: double (nullable = true)\n",
      " |-- Y: double (nullable = true)\n",
      " |-- Z: double (nullable = true)\n",
      " |-- _id: string (nullable = true)\n",
      " |-- _rev: string (nullable = true)\n",
      " |-- label: double (nullable = true)\n",
      " |-- labelVec: vector (nullable = true)\n",
      " |-- features: vector (nullable = true)\n",
      " |-- features_norm: vector (nullable = true)\n",
      " |-- prediction: double (nullable = true)\n",
      "\n"
     ]
    }
   ],
   "source": [
    "prediction.printSchema()"
   ]
  },
  {
   "cell_type": "code",
   "execution_count": 61,
   "metadata": {},
   "outputs": [
    {
     "data": {
      "text/plain": [
       "0.822438717787555"
      ]
     },
     "execution_count": 61,
     "metadata": {},
     "output_type": "execute_result"
    }
   ],
   "source": [
    "from pyspark.ml.evaluation import MulticlassClassificationEvaluator\n",
    "binEval = MulticlassClassificationEvaluator().setMetricName(\"accuracy\") .setPredictionCol(\"prediction\").setLabelCol(\"label\")\n",
    "    \n",
    "binEval.evaluate(prediction) "
   ]
  },
  {
   "cell_type": "markdown",
   "metadata": {},
   "source": [
    "If you are happy with the result (I’m happy with > 0.55) please submit your solution to the grader by executing the following cells, please don’t forget to obtain an assignment submission token (secret) from the Courera’s graders web page and paste it to the “secret” variable below, including your email address you’ve used for Coursera. (0.55 means that you are performing better than random guesses)\n"
   ]
  },
  {
   "cell_type": "code",
   "execution_count": 62,
   "metadata": {},
   "outputs": [],
   "source": [
    "!rm -Rf a2_m2.json"
   ]
  },
  {
   "cell_type": "code",
   "execution_count": 63,
   "metadata": {},
   "outputs": [],
   "source": [
    "prediction = prediction.repartition(1)\n",
    "prediction.write.json('a2_m2.json')"
   ]
  },
  {
   "cell_type": "code",
   "execution_count": 64,
   "metadata": {},
   "outputs": [
    {
     "name": "stdout",
     "output_type": "stream",
     "text": [
      "--2018-12-28 15:48:04--  https://raw.githubusercontent.com/romeokienzler/developerWorks/master/coursera/ai/rklib.py\n",
      "Resolving raw.githubusercontent.com (raw.githubusercontent.com)... 151.101.48.133\n",
      "Connecting to raw.githubusercontent.com (raw.githubusercontent.com)|151.101.48.133|:443... connected.\n",
      "HTTP request sent, awaiting response... 200 OK\n",
      "Length: 2289 (2.2K) [text/plain]\n",
      "Saving to: ‘rklib.py’\n",
      "\n",
      "100%[======================================>] 2,289       --.-K/s   in 0s      \n",
      "\n",
      "2018-12-28 15:48:05 (11.1 MB/s) - ‘rklib.py’ saved [2289/2289]\n",
      "\n"
     ]
    }
   ],
   "source": [
    "!rm -f rklib.py\n",
    "!wget https://raw.githubusercontent.com/romeokienzler/developerWorks/master/coursera/ai/rklib.py"
   ]
  },
  {
   "cell_type": "code",
   "execution_count": 65,
   "metadata": {},
   "outputs": [
    {
     "name": "stdout",
     "output_type": "stream",
     "text": [
      "updating: a2_m2.json/ (stored 0%)\r\n",
      "updating: a2_m2.json/_SUCCESS (stored 0%)\r\n",
      "updating: a2_m2.json/._SUCCESS.crc (stored 0%)\r\n",
      "  adding: a2_m2.json/.part-00000-77d08854-3b0d-49e6-aa83-0989b598b38b.json.crc (stored 0%)\r\n",
      "  adding: a2_m2.json/part-00000-77d08854-3b0d-49e6-aa83-0989b598b38b.json (deflated 93%)\r\n"
     ]
    }
   ],
   "source": [
    "!zip -r a2_m2.json.zip a2_m2.json"
   ]
  },
  {
   "cell_type": "code",
   "execution_count": 66,
   "metadata": {},
   "outputs": [],
   "source": [
    "!base64 a2_m2.json.zip > a2_m2.json.zip.base64"
   ]
  },
  {
   "cell_type": "code",
   "execution_count": 67,
   "metadata": {},
   "outputs": [
    {
     "name": "stdout",
     "output_type": "stream",
     "text": [
      "Submission successful, please check on the coursera grader page for the status\n",
      "-------------------------\n",
      "{\"elements\":[{\"itemId\":\"LTL4F\",\"id\":\"f_F-qCtuEei_fRLwaVDk3g~LTL4F~Y22ObgrqEemNsgqSGaU9BA\",\"courseId\":\"f_F-qCtuEei_fRLwaVDk3g\"}],\"paging\":{},\"linked\":{}}\n",
      "-------------------------\n"
     ]
    }
   ],
   "source": [
    "from rklib import submit\n",
    "key = \"J3sDL2J8EeiaXhILFWw2-g\"\n",
    "part = \"G4P6f\"\n",
    "email = \"\"\n",
    "secret = \"\"\n",
    "\n",
    "with open('a2_m2.json.zip.base64', 'r') as myfile:\n",
    "    data=myfile.read()\n",
    "submit(email, secret, key, part, [part], data)"
   ]
  },
  {
   "cell_type": "code",
   "execution_count": null,
   "metadata": {},
   "outputs": [],
   "source": []
  }
 ],
 "metadata": {
  "kernelspec": {
   "display_name": "Python 3.5 with Spark 2.1",
   "language": "python",
   "name": "python3-spark21"
  },
  "language_info": {
   "codemirror_mode": {
    "name": "ipython",
    "version": 3
   },
   "file_extension": ".py",
   "mimetype": "text/x-python",
   "name": "python",
   "nbconvert_exporter": "python",
   "pygments_lexer": "ipython3",
   "version": "3.5.4"
  }
 },
 "nbformat": 4,
 "nbformat_minor": 1
}
