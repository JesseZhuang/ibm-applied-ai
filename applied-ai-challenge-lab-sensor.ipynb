{
 "cells": [
  {
   "cell_type": "markdown",
   "metadata": {},
   "source": [
    "### Import the JSON File with Industry Lab Sensor Data"
   ]
  },
  {
   "cell_type": "code",
   "execution_count": 3,
   "metadata": {},
   "outputs": [
    {
     "data": {
      "text/html": [
       "<div>\n",
       "<style scoped>\n",
       "    .dataframe tbody tr th:only-of-type {\n",
       "        vertical-align: middle;\n",
       "    }\n",
       "\n",
       "    .dataframe tbody tr th {\n",
       "        vertical-align: top;\n",
       "    }\n",
       "\n",
       "    .dataframe thead th {\n",
       "        text-align: right;\n",
       "    }\n",
       "</style>\n",
       "<table border=\"1\" class=\"dataframe\">\n",
       "  <thead>\n",
       "    <tr style=\"text-align: right;\">\n",
       "      <th></th>\n",
       "      <th>itemname</th>\n",
       "      <th>sensorname</th>\n",
       "      <th>time</th>\n",
       "      <th>value</th>\n",
       "    </tr>\n",
       "  </thead>\n",
       "  <tbody>\n",
       "    <tr>\n",
       "      <th>0</th>\n",
       "      <td>52760_5_temperature_value</td>\n",
       "      <td>item0001</td>\n",
       "      <td>2018-02-19T07:05:00.165Z</td>\n",
       "      <td>20.5</td>\n",
       "    </tr>\n",
       "    <tr>\n",
       "      <th>1</th>\n",
       "      <td>47406_3_temperature_value</td>\n",
       "      <td>item0002</td>\n",
       "      <td>2018-02-19T07:05:00.240Z</td>\n",
       "      <td>20.61</td>\n",
       "    </tr>\n",
       "    <tr>\n",
       "      <th>2</th>\n",
       "      <td>452B5_3_temperature_value</td>\n",
       "      <td>item0003</td>\n",
       "      <td>2018-02-19T07:05:00.316Z</td>\n",
       "      <td>19.89</td>\n",
       "    </tr>\n",
       "    <tr>\n",
       "      <th>3</th>\n",
       "      <td>452F9_3_temperature_value</td>\n",
       "      <td>item0004</td>\n",
       "      <td>2018-02-19T07:05:00.388Z</td>\n",
       "      <td>19.7</td>\n",
       "    </tr>\n",
       "    <tr>\n",
       "      <th>4</th>\n",
       "      <td>4521C_3_temperature_value</td>\n",
       "      <td>item0005</td>\n",
       "      <td>2018-02-19T07:05:00.460Z</td>\n",
       "      <td>18.89</td>\n",
       "    </tr>\n",
       "  </tbody>\n",
       "</table>\n",
       "</div>"
      ],
      "text/plain": [
       "                    itemname sensorname                      time  value\n",
       "0  52760_5_temperature_value   item0001  2018-02-19T07:05:00.165Z   20.5\n",
       "1  47406_3_temperature_value   item0002  2018-02-19T07:05:00.240Z  20.61\n",
       "2  452B5_3_temperature_value   item0003  2018-02-19T07:05:00.316Z  19.89\n",
       "3  452F9_3_temperature_value   item0004  2018-02-19T07:05:00.388Z   19.7\n",
       "4  4521C_3_temperature_value   item0005  2018-02-19T07:05:00.460Z  18.89"
      ]
     },
     "execution_count": 3,
     "metadata": {},
     "output_type": "execute_result"
    }
   ],
   "source": [
    "\n",
    "import sys\n",
    "import types\n",
    "import pandas as pd\n",
    "from botocore.client import Config\n",
    "import ibm_boto3\n",
    "\n",
    "def __iter__(self): return 0\n",
    "\n",
    "# @hidden_cell\n",
    "# The following code accesses a file in your IBM Cloud Object Storage. It includes your credentials.\n",
    "# You might want to remove those credentials before you share your notebook.\n",
    "client_915ea66450e44183938b1aab8572887f = ibm_boto3.client(service_name='s3',\n",
    "    ibm_api_key_id='x8L***',\n",
    "    ibm_auth_endpoint=\"https://iam.ng.bluemix.net/oidc/token\",\n",
    "    config=Config(signature_version='oauth'),\n",
    "    endpoint_url='https://s3-api.us-geo.objectstorage.service.networklayer.com')\n",
    "\n",
    "body = client_915ea66450e44183938b1aab8572887f.get_object(Bucket='dsboot***',Key='floorsensordata2604.json')['Body']\n",
    "# add missing __iter__ method, so pandas accepts body as file-like object \n",
    "\n",
    "if not hasattr(body, \"__iter__\"): body.__iter__ = types.MethodType( __iter__, body )\n",
    "\n",
    "# Since JSON data can be semi-structured and contain additional metadata, it is possible that you might face an error during data loading.\n",
    "# Please read the documentation of 'pandas.read_json()' and 'pandas.io.json.json_normalize' to learn more about the possibilities to adjust the data loading.\n",
    "# pandas documentation: http://pandas.pydata.org/pandas-docs/stable/io.html#io-json-reader\n",
    "# and http://pandas.pydata.org/pandas-docs/stable/generated/pandas.io.json.json_normalize.html\n",
    "\n",
    "df_data_1 = pd.read_json(body, orient='values')\n",
    "df_data_1.head()\n",
    "\n"
   ]
  },
  {
   "cell_type": "markdown",
   "metadata": {},
   "source": [
    "### Check the Structure of the Data Frame"
   ]
  },
  {
   "cell_type": "code",
   "execution_count": 4,
   "metadata": {},
   "outputs": [],
   "source": [
    "df = df_data_1"
   ]
  },
  {
   "cell_type": "code",
   "execution_count": 5,
   "metadata": {},
   "outputs": [
    {
     "data": {
      "text/html": [
       "<div>\n",
       "<style scoped>\n",
       "    .dataframe tbody tr th:only-of-type {\n",
       "        vertical-align: middle;\n",
       "    }\n",
       "\n",
       "    .dataframe tbody tr th {\n",
       "        vertical-align: top;\n",
       "    }\n",
       "\n",
       "    .dataframe thead th {\n",
       "        text-align: right;\n",
       "    }\n",
       "</style>\n",
       "<table border=\"1\" class=\"dataframe\">\n",
       "  <thead>\n",
       "    <tr style=\"text-align: right;\">\n",
       "      <th></th>\n",
       "      <th>itemname</th>\n",
       "      <th>sensorname</th>\n",
       "      <th>time</th>\n",
       "      <th>value</th>\n",
       "    </tr>\n",
       "  </thead>\n",
       "  <tbody>\n",
       "    <tr>\n",
       "      <th>0</th>\n",
       "      <td>52760_5_temperature_value</td>\n",
       "      <td>item0001</td>\n",
       "      <td>2018-02-19T07:05:00.165Z</td>\n",
       "      <td>20.5</td>\n",
       "    </tr>\n",
       "    <tr>\n",
       "      <th>1</th>\n",
       "      <td>47406_3_temperature_value</td>\n",
       "      <td>item0002</td>\n",
       "      <td>2018-02-19T07:05:00.240Z</td>\n",
       "      <td>20.61</td>\n",
       "    </tr>\n",
       "    <tr>\n",
       "      <th>2</th>\n",
       "      <td>452B5_3_temperature_value</td>\n",
       "      <td>item0003</td>\n",
       "      <td>2018-02-19T07:05:00.316Z</td>\n",
       "      <td>19.89</td>\n",
       "    </tr>\n",
       "    <tr>\n",
       "      <th>3</th>\n",
       "      <td>452F9_3_temperature_value</td>\n",
       "      <td>item0004</td>\n",
       "      <td>2018-02-19T07:05:00.388Z</td>\n",
       "      <td>19.7</td>\n",
       "    </tr>\n",
       "    <tr>\n",
       "      <th>4</th>\n",
       "      <td>4521C_3_temperature_value</td>\n",
       "      <td>item0005</td>\n",
       "      <td>2018-02-19T07:05:00.460Z</td>\n",
       "      <td>18.89</td>\n",
       "    </tr>\n",
       "    <tr>\n",
       "      <th>5</th>\n",
       "      <td>51A51_5_temperature_value</td>\n",
       "      <td>item0006</td>\n",
       "      <td>2018-02-19T07:05:00.534Z</td>\n",
       "      <td>21.812</td>\n",
       "    </tr>\n",
       "    <tr>\n",
       "      <th>6</th>\n",
       "      <td>512F5_5_temperature_value</td>\n",
       "      <td>item0007</td>\n",
       "      <td>2018-02-19T07:05:00.607Z</td>\n",
       "      <td>21</td>\n",
       "    </tr>\n",
       "    <tr>\n",
       "      <th>7</th>\n",
       "      <td>45974_3_temperature_value</td>\n",
       "      <td>item0008</td>\n",
       "      <td>2018-02-19T07:05:00.687Z</td>\n",
       "      <td>21.06</td>\n",
       "    </tr>\n",
       "    <tr>\n",
       "      <th>8</th>\n",
       "      <td>52686_5_temperature_value</td>\n",
       "      <td>item0009</td>\n",
       "      <td>2018-02-19T07:05:00.760Z</td>\n",
       "      <td>21</td>\n",
       "    </tr>\n",
       "    <tr>\n",
       "      <th>9</th>\n",
       "      <td>45152_3_temperature_value</td>\n",
       "      <td>item0010</td>\n",
       "      <td>2018-02-19T07:05:00.839Z</td>\n",
       "      <td>20.2</td>\n",
       "    </tr>\n",
       "  </tbody>\n",
       "</table>\n",
       "</div>"
      ],
      "text/plain": [
       "                    itemname sensorname                      time   value\n",
       "0  52760_5_temperature_value   item0001  2018-02-19T07:05:00.165Z    20.5\n",
       "1  47406_3_temperature_value   item0002  2018-02-19T07:05:00.240Z   20.61\n",
       "2  452B5_3_temperature_value   item0003  2018-02-19T07:05:00.316Z   19.89\n",
       "3  452F9_3_temperature_value   item0004  2018-02-19T07:05:00.388Z    19.7\n",
       "4  4521C_3_temperature_value   item0005  2018-02-19T07:05:00.460Z   18.89\n",
       "5  51A51_5_temperature_value   item0006  2018-02-19T07:05:00.534Z  21.812\n",
       "6  512F5_5_temperature_value   item0007  2018-02-19T07:05:00.607Z      21\n",
       "7  45974_3_temperature_value   item0008  2018-02-19T07:05:00.687Z   21.06\n",
       "8  52686_5_temperature_value   item0009  2018-02-19T07:05:00.760Z      21\n",
       "9  45152_3_temperature_value   item0010  2018-02-19T07:05:00.839Z    20.2"
      ]
     },
     "execution_count": 5,
     "metadata": {},
     "output_type": "execute_result"
    }
   ],
   "source": [
    "df.head(10)"
   ]
  },
  {
   "cell_type": "code",
   "execution_count": 6,
   "metadata": {},
   "outputs": [
    {
     "data": {
      "text/html": [
       "<div>\n",
       "<style scoped>\n",
       "    .dataframe tbody tr th:only-of-type {\n",
       "        vertical-align: middle;\n",
       "    }\n",
       "\n",
       "    .dataframe tbody tr th {\n",
       "        vertical-align: top;\n",
       "    }\n",
       "\n",
       "    .dataframe thead th {\n",
       "        text-align: right;\n",
       "    }\n",
       "</style>\n",
       "<table border=\"1\" class=\"dataframe\">\n",
       "  <thead>\n",
       "    <tr style=\"text-align: right;\">\n",
       "      <th></th>\n",
       "      <th>itemname</th>\n",
       "      <th>sensorname</th>\n",
       "      <th>time</th>\n",
       "      <th>value</th>\n",
       "    </tr>\n",
       "  </thead>\n",
       "  <tbody>\n",
       "    <tr>\n",
       "      <th>760514</th>\n",
       "      <td>476CA_4_carbonDioxide_value</td>\n",
       "      <td>item0131</td>\n",
       "      <td>2018-04-26T14:00:03.218Z</td>\n",
       "      <td>798</td>\n",
       "    </tr>\n",
       "    <tr>\n",
       "      <th>760515</th>\n",
       "      <td>46CF4_4_carbonDioxide_value</td>\n",
       "      <td>item0104</td>\n",
       "      <td>2018-04-26T14:00:03.259Z</td>\n",
       "      <td>543</td>\n",
       "    </tr>\n",
       "    <tr>\n",
       "      <th>760516</th>\n",
       "      <td>45974_4_carbonDioxide_value</td>\n",
       "      <td>item0122</td>\n",
       "      <td>2018-04-26T14:00:03.280Z</td>\n",
       "      <td>744</td>\n",
       "    </tr>\n",
       "    <tr>\n",
       "      <th>760517</th>\n",
       "      <td>4692E_4_carbonDioxide_value</td>\n",
       "      <td>item0114</td>\n",
       "      <td>2018-04-26T14:00:03.301Z</td>\n",
       "      <td>795</td>\n",
       "    </tr>\n",
       "    <tr>\n",
       "      <th>760518</th>\n",
       "      <td>South_Workarea_3_Air</td>\n",
       "      <td>item0157</td>\n",
       "      <td>2018-04-26T14:00:03.321Z</td>\n",
       "      <td>500</td>\n",
       "    </tr>\n",
       "    <tr>\n",
       "      <th>760519</th>\n",
       "      <td>47406_4_carbonDioxide_value</td>\n",
       "      <td>item0126</td>\n",
       "      <td>2018-04-26T14:00:03.341Z</td>\n",
       "      <td>641</td>\n",
       "    </tr>\n",
       "    <tr>\n",
       "      <th>760520</th>\n",
       "      <td>47888_4_carbonDioxide_value</td>\n",
       "      <td>item0083</td>\n",
       "      <td>2018-04-26T14:00:03.362Z</td>\n",
       "      <td>896</td>\n",
       "    </tr>\n",
       "    <tr>\n",
       "      <th>760521</th>\n",
       "      <td>45C72_4_carbonDioxide_value</td>\n",
       "      <td>item0109</td>\n",
       "      <td>2018-04-26T14:00:03.383Z</td>\n",
       "      <td>730</td>\n",
       "    </tr>\n",
       "    <tr>\n",
       "      <th>760522</th>\n",
       "      <td>46C8A_4_carbonDioxide_value</td>\n",
       "      <td>item0072</td>\n",
       "      <td>2018-04-26T14:00:03.403Z</td>\n",
       "      <td>565</td>\n",
       "    </tr>\n",
       "    <tr>\n",
       "      <th>760523</th>\n",
       "      <td>Loisach_Occupancy</td>\n",
       "      <td>item0146</td>\n",
       "      <td>2018-04-26T14:00:52.918Z</td>\n",
       "      <td>occupied</td>\n",
       "    </tr>\n",
       "  </tbody>\n",
       "</table>\n",
       "</div>"
      ],
      "text/plain": [
       "                           itemname sensorname                      time  \\\n",
       "760514  476CA_4_carbonDioxide_value   item0131  2018-04-26T14:00:03.218Z   \n",
       "760515  46CF4_4_carbonDioxide_value   item0104  2018-04-26T14:00:03.259Z   \n",
       "760516  45974_4_carbonDioxide_value   item0122  2018-04-26T14:00:03.280Z   \n",
       "760517  4692E_4_carbonDioxide_value   item0114  2018-04-26T14:00:03.301Z   \n",
       "760518         South_Workarea_3_Air   item0157  2018-04-26T14:00:03.321Z   \n",
       "760519  47406_4_carbonDioxide_value   item0126  2018-04-26T14:00:03.341Z   \n",
       "760520  47888_4_carbonDioxide_value   item0083  2018-04-26T14:00:03.362Z   \n",
       "760521  45C72_4_carbonDioxide_value   item0109  2018-04-26T14:00:03.383Z   \n",
       "760522  46C8A_4_carbonDioxide_value   item0072  2018-04-26T14:00:03.403Z   \n",
       "760523            Loisach_Occupancy   item0146  2018-04-26T14:00:52.918Z   \n",
       "\n",
       "           value  \n",
       "760514       798  \n",
       "760515       543  \n",
       "760516       744  \n",
       "760517       795  \n",
       "760518       500  \n",
       "760519       641  \n",
       "760520       896  \n",
       "760521       730  \n",
       "760522       565  \n",
       "760523  occupied  "
      ]
     },
     "execution_count": 6,
     "metadata": {},
     "output_type": "execute_result"
    }
   ],
   "source": [
    "df.tail(10)"
   ]
  },
  {
   "cell_type": "code",
   "execution_count": 7,
   "metadata": {
    "scrolled": false
   },
   "outputs": [
    {
     "data": {
      "text/plain": [
       "array(['52760_5_temperature_value', '47406_3_temperature_value',\n",
       "       '452B5_3_temperature_value', '452F9_3_temperature_value',\n",
       "       '4521C_3_temperature_value', '51A51_5_temperature_value',\n",
       "       '512F5_5_temperature_value', '45974_3_temperature_value',\n",
       "       '52686_5_temperature_value', '45152_3_temperature_value',\n",
       "       '51BEB_5_temperature_value', '45A95_3_temperature_value',\n",
       "       '516AF_5_temperature_value', '51711_5_temperature_value',\n",
       "       '51B62_5_temperature_value', '476CA_3_temperature_value',\n",
       "       '51174_5_temperature_value', '511D3_5_temperature_value',\n",
       "       '45A94_3_temperature_value', '5161B_5_temperature_value',\n",
       "       '454CA_3_temperature_value', '510FD_5_temperature_value',\n",
       "       '4562F_3_temperature_value', '51A63_5_temperature_value',\n",
       "       '51B5C_5_temperature_value', '47888_3_temperature_value',\n",
       "       '451E8_3_temperature_value', '5131F_5_temperature_value',\n",
       "       '51C0A_5_temperature_value', '46C8A_3_temperature_value',\n",
       "       '52259_5_temperature_value', '4548D_3_temperature_value',\n",
       "       '451B7_3_temperature_value', '51B6F_5_temperature_value',\n",
       "       '5140A_5_temperature_value', '52444_5_temperature_value',\n",
       "       '51B88_5_temperature_value', '515B5_5_temperature_value',\n",
       "       '52774_5_temperature_value', '45C72_3_temperature_value',\n",
       "       '5130A_5_temperature_value', '51B0E_5_temperature_value',\n",
       "       '51166_5_temperature_value', '5257C_5_temperature_value',\n",
       "       '45534_3_temperature_value', '4692E_3_temperature_value',\n",
       "       '51183_5_temperature_value', '522AE_5_temperature_value',\n",
       "       '455DB_3_temperature_value', '4560C_3_temperature_value',\n",
       "       '45731_3_temperature_value', '5245A_5_temperature_value',\n",
       "       '450EC_3_temperature_value', '51B56_5_temperature_value',\n",
       "       '452FC_3_temperature_value', '46CF4_3_temperature_value',\n",
       "       '52443_5_temperature_value', '45735_3_temperature_value',\n",
       "       '510E0_5_temperature_value', '52268_5_temperature_value',\n",
       "       '52439_5_temperature_value', '45590_3_temperature_value',\n",
       "       '45140_3_temperature_value', '455D9_3_temperature_value',\n",
       "       '456C6_3_temperature_value', '4674C_3_temperature_value',\n",
       "       '45A95_4_carbonDioxide_value', '4674C_4_carbonDioxide_value',\n",
       "       '476CA_4_carbonDioxide_value', '46CF4_4_carbonDioxide_value',\n",
       "       '45974_4_carbonDioxide_value', '4692E_4_carbonDioxide_value',\n",
       "       '47406_4_carbonDioxide_value', '47888_4_carbonDioxide_value',\n",
       "       '46C8A_4_carbonDioxide_value', '45C72_4_carbonDioxide_value',\n",
       "       '46C8A_3_humidity_value', '47406_3_humidity_value',\n",
       "       '45152_5_illuminance_value', '45A95_3_humidity_value',\n",
       "       '451E8_3_humidity_value', '45A94_6_pressure_value',\n",
       "       '45534_3_humidity_value', '450EC_5_illuminance_value',\n",
       "       '4521C_3_humidity_value', '45735_3_humidity_value',\n",
       "       '4560C_3_humidity_value', '454CA_5_illuminance_value',\n",
       "       '451B7_5_illuminance_value', '454CA_3_humidity_value',\n",
       "       '451E8_5_illuminance_value', '45140_3_humidity_value',\n",
       "       '46CF4_3_humidity_value', '45974_6_pressure_value',\n",
       "       '452B5_3_humidity_value', '47888_3_humidity_value',\n",
       "       '4674C_6_pressure_value', '455DB_3_humidity_value',\n",
       "       '47888_6_pressure_value', '45731_5_illuminance_value',\n",
       "       '4562F_3_humidity_value', '476CA_6_pressure_value',\n",
       "       '45731_3_humidity_value', '4674C_3_humidity_value',\n",
       "       '45590_5_illuminance_value', '450EC_3_humidity_value',\n",
       "       '476CA_3_humidity_value', '45A94_3_humidity_value',\n",
       "       '45A95_6_pressure_value', '45590_3_humidity_value',\n",
       "       '47406_6_pressure_value', '46CF4_6_pressure_value',\n",
       "       '4548D_3_humidity_value', '45974_3_humidity_value',\n",
       "       '456C6_3_humidity_value', '455D9_3_humidity_value',\n",
       "       '46C8A_6_pressure_value', '4692E_3_humidity_value',\n",
       "       '45152_3_humidity_value', '45C72_3_humidity_value',\n",
       "       '4548D_5_illuminance_value', '4562F_5_illuminance_value',\n",
       "       '455DB_5_illuminance_value', '451B7_3_humidity_value',\n",
       "       '45C72_6_pressure_value', '45534_5_illuminance_value',\n",
       "       '45140_5_illuminance_value', '452F9_5_illuminance_value',\n",
       "       '4521C_5_illuminance_value', '452FC_5_illuminance_value',\n",
       "       '452FC_3_humidity_value', '452B5_5_illuminance_value',\n",
       "       '452F9_3_humidity_value', '4692E_6_pressure_value',\n",
       "       '456C6_5_illuminance_value', '455D9_5_illuminance_value',\n",
       "       '45735_5_illuminance_value', 'Wuerm_Occupancy',\n",
       "       'Mangfall_Occupancy', 'Think_Box_Occupancy', 'Loisach_Occupancy',\n",
       "       'Port_Of_Rotterdam_Occupancy', 'Amper_Occupancy',\n",
       "       'Shinano_Occupancy', 'Isar_Occupancy', '4560C_5_illuminance_value',\n",
       "       'meetingroom_door_contact_value', 'office_door_contact_value',\n",
       "       'DEV_WASP_AGR_MESHLIUM_DEV_value', 'fridge_door_contact_value',\n",
       "       'smarthome_door_contact_value', 'liquidSensor_liquidDetected_value',\n",
       "       '46CE5_3_humidity_value', '46CE5_5_illuminance_value',\n",
       "       '46CE5_3_temperature_value', 'South_Workarea_3_Air',\n",
       "       'Yangtze_Occupancy', 'Floor23_SmartMeter_Value',\n",
       "       'Floor23_SmartMeter_Power', 'EnOceanAgri_relativeHumidity_value',\n",
       "       'EnOceanAgri_luminanceIntensity_value', 'Floor23_Curtain_Move',\n",
       "       'Floor23_Window_Handle_Status', 'Floor23_Curtain',\n",
       "       'ESP8266_600194107B29_IRRIGATOR_WATERLEVEL',\n",
       "       'ESP8266_600194107B29_IRRIGATOR_SOIL_MOIS', 'Server_Floor23_Ping',\n",
       "       'Server_Floor23_KEVAG_Upload', 'Server_Floor23_KEVAG_Download',\n",
       "       'Server_Floor23_KEVAG_Ping', 'Server_Floor23_NetDSign_Upload',\n",
       "       'Server_Floor23_NetDSign_Download', 'Server_Floor23_NetDSign_Ping'], dtype=object)"
      ]
     },
     "execution_count": 7,
     "metadata": {},
     "output_type": "execute_result"
    }
   ],
   "source": [
    "df.itemname.unique()"
   ]
  },
  {
   "cell_type": "markdown",
   "metadata": {},
   "source": [
    "### Format Yanzi Sensor Data "
   ]
  },
  {
   "cell_type": "code",
   "execution_count": 8,
   "metadata": {},
   "outputs": [],
   "source": [
    "df['id'] = df['itemname'].str.split('_').str[0]"
   ]
  },
  {
   "cell_type": "code",
   "execution_count": 9,
   "metadata": {},
   "outputs": [],
   "source": [
    "df['temperature'] = df[df['itemname'].str.contains('temperature')]['value'].astype(float)\n",
    "df['carbonDioxide'] = df[df['itemname'].str.contains('carbonDioxide')]['value'].astype(float)\n",
    "df['humidity'] = df[df['itemname'].str.contains('humidity')]['value'].astype(float)\n",
    "df['illuminance'] = df[df['itemname'].str.contains('illuminance')]['value'].astype(float)\n",
    "df['pressure'] = df[df['itemname'].str.contains('pressure')]['value'].astype(float)\n",
    "df['Occupancy'] = df[df['itemname'].str.contains('Occupancy')]['value']"
   ]
  },
  {
   "cell_type": "code",
   "execution_count": 10,
   "metadata": {},
   "outputs": [
    {
     "data": {
      "text/html": [
       "<div>\n",
       "<style scoped>\n",
       "    .dataframe tbody tr th:only-of-type {\n",
       "        vertical-align: middle;\n",
       "    }\n",
       "\n",
       "    .dataframe tbody tr th {\n",
       "        vertical-align: top;\n",
       "    }\n",
       "\n",
       "    .dataframe thead th {\n",
       "        text-align: right;\n",
       "    }\n",
       "</style>\n",
       "<table border=\"1\" class=\"dataframe\">\n",
       "  <thead>\n",
       "    <tr style=\"text-align: right;\">\n",
       "      <th></th>\n",
       "      <th>itemname</th>\n",
       "      <th>sensorname</th>\n",
       "      <th>time</th>\n",
       "      <th>value</th>\n",
       "      <th>id</th>\n",
       "      <th>temperature</th>\n",
       "      <th>carbonDioxide</th>\n",
       "      <th>humidity</th>\n",
       "      <th>illuminance</th>\n",
       "      <th>pressure</th>\n",
       "      <th>Occupancy</th>\n",
       "    </tr>\n",
       "  </thead>\n",
       "  <tbody>\n",
       "    <tr>\n",
       "      <th>0</th>\n",
       "      <td>52760_5_temperature_value</td>\n",
       "      <td>item0001</td>\n",
       "      <td>2018-02-19T07:05:00.165Z</td>\n",
       "      <td>20.5</td>\n",
       "      <td>52760</td>\n",
       "      <td>20.50</td>\n",
       "      <td>NaN</td>\n",
       "      <td>NaN</td>\n",
       "      <td>NaN</td>\n",
       "      <td>NaN</td>\n",
       "      <td>NaN</td>\n",
       "    </tr>\n",
       "    <tr>\n",
       "      <th>1</th>\n",
       "      <td>47406_3_temperature_value</td>\n",
       "      <td>item0002</td>\n",
       "      <td>2018-02-19T07:05:00.240Z</td>\n",
       "      <td>20.61</td>\n",
       "      <td>47406</td>\n",
       "      <td>20.61</td>\n",
       "      <td>NaN</td>\n",
       "      <td>NaN</td>\n",
       "      <td>NaN</td>\n",
       "      <td>NaN</td>\n",
       "      <td>NaN</td>\n",
       "    </tr>\n",
       "    <tr>\n",
       "      <th>2</th>\n",
       "      <td>452B5_3_temperature_value</td>\n",
       "      <td>item0003</td>\n",
       "      <td>2018-02-19T07:05:00.316Z</td>\n",
       "      <td>19.89</td>\n",
       "      <td>452B5</td>\n",
       "      <td>19.89</td>\n",
       "      <td>NaN</td>\n",
       "      <td>NaN</td>\n",
       "      <td>NaN</td>\n",
       "      <td>NaN</td>\n",
       "      <td>NaN</td>\n",
       "    </tr>\n",
       "    <tr>\n",
       "      <th>3</th>\n",
       "      <td>452F9_3_temperature_value</td>\n",
       "      <td>item0004</td>\n",
       "      <td>2018-02-19T07:05:00.388Z</td>\n",
       "      <td>19.7</td>\n",
       "      <td>452F9</td>\n",
       "      <td>19.70</td>\n",
       "      <td>NaN</td>\n",
       "      <td>NaN</td>\n",
       "      <td>NaN</td>\n",
       "      <td>NaN</td>\n",
       "      <td>NaN</td>\n",
       "    </tr>\n",
       "    <tr>\n",
       "      <th>4</th>\n",
       "      <td>4521C_3_temperature_value</td>\n",
       "      <td>item0005</td>\n",
       "      <td>2018-02-19T07:05:00.460Z</td>\n",
       "      <td>18.89</td>\n",
       "      <td>4521C</td>\n",
       "      <td>18.89</td>\n",
       "      <td>NaN</td>\n",
       "      <td>NaN</td>\n",
       "      <td>NaN</td>\n",
       "      <td>NaN</td>\n",
       "      <td>NaN</td>\n",
       "    </tr>\n",
       "  </tbody>\n",
       "</table>\n",
       "</div>"
      ],
      "text/plain": [
       "                    itemname sensorname                      time  value  \\\n",
       "0  52760_5_temperature_value   item0001  2018-02-19T07:05:00.165Z   20.5   \n",
       "1  47406_3_temperature_value   item0002  2018-02-19T07:05:00.240Z  20.61   \n",
       "2  452B5_3_temperature_value   item0003  2018-02-19T07:05:00.316Z  19.89   \n",
       "3  452F9_3_temperature_value   item0004  2018-02-19T07:05:00.388Z   19.7   \n",
       "4  4521C_3_temperature_value   item0005  2018-02-19T07:05:00.460Z  18.89   \n",
       "\n",
       "      id  temperature  carbonDioxide  humidity  illuminance  pressure  \\\n",
       "0  52760        20.50            NaN       NaN          NaN       NaN   \n",
       "1  47406        20.61            NaN       NaN          NaN       NaN   \n",
       "2  452B5        19.89            NaN       NaN          NaN       NaN   \n",
       "3  452F9        19.70            NaN       NaN          NaN       NaN   \n",
       "4  4521C        18.89            NaN       NaN          NaN       NaN   \n",
       "\n",
       "  Occupancy  \n",
       "0       NaN  \n",
       "1       NaN  \n",
       "2       NaN  \n",
       "3       NaN  \n",
       "4       NaN  "
      ]
     },
     "execution_count": 10,
     "metadata": {},
     "output_type": "execute_result"
    }
   ],
   "source": [
    "df.head()"
   ]
  },
  {
   "cell_type": "code",
   "execution_count": 11,
   "metadata": {},
   "outputs": [
    {
     "data": {
      "text/html": [
       "<div>\n",
       "<style scoped>\n",
       "    .dataframe tbody tr th:only-of-type {\n",
       "        vertical-align: middle;\n",
       "    }\n",
       "\n",
       "    .dataframe tbody tr th {\n",
       "        vertical-align: top;\n",
       "    }\n",
       "\n",
       "    .dataframe thead th {\n",
       "        text-align: right;\n",
       "    }\n",
       "</style>\n",
       "<table border=\"1\" class=\"dataframe\">\n",
       "  <thead>\n",
       "    <tr style=\"text-align: right;\">\n",
       "      <th></th>\n",
       "      <th>itemname</th>\n",
       "      <th>sensorname</th>\n",
       "      <th>time</th>\n",
       "      <th>value</th>\n",
       "      <th>id</th>\n",
       "      <th>temperature</th>\n",
       "      <th>carbonDioxide</th>\n",
       "      <th>humidity</th>\n",
       "      <th>illuminance</th>\n",
       "      <th>pressure</th>\n",
       "      <th>Occupancy</th>\n",
       "    </tr>\n",
       "  </thead>\n",
       "  <tbody>\n",
       "    <tr>\n",
       "      <th>760519</th>\n",
       "      <td>47406_4_carbonDioxide_value</td>\n",
       "      <td>item0126</td>\n",
       "      <td>2018-04-26T14:00:03.341Z</td>\n",
       "      <td>641</td>\n",
       "      <td>47406</td>\n",
       "      <td>NaN</td>\n",
       "      <td>641.0</td>\n",
       "      <td>NaN</td>\n",
       "      <td>NaN</td>\n",
       "      <td>NaN</td>\n",
       "      <td>NaN</td>\n",
       "    </tr>\n",
       "    <tr>\n",
       "      <th>760520</th>\n",
       "      <td>47888_4_carbonDioxide_value</td>\n",
       "      <td>item0083</td>\n",
       "      <td>2018-04-26T14:00:03.362Z</td>\n",
       "      <td>896</td>\n",
       "      <td>47888</td>\n",
       "      <td>NaN</td>\n",
       "      <td>896.0</td>\n",
       "      <td>NaN</td>\n",
       "      <td>NaN</td>\n",
       "      <td>NaN</td>\n",
       "      <td>NaN</td>\n",
       "    </tr>\n",
       "    <tr>\n",
       "      <th>760521</th>\n",
       "      <td>45C72_4_carbonDioxide_value</td>\n",
       "      <td>item0109</td>\n",
       "      <td>2018-04-26T14:00:03.383Z</td>\n",
       "      <td>730</td>\n",
       "      <td>45C72</td>\n",
       "      <td>NaN</td>\n",
       "      <td>730.0</td>\n",
       "      <td>NaN</td>\n",
       "      <td>NaN</td>\n",
       "      <td>NaN</td>\n",
       "      <td>NaN</td>\n",
       "    </tr>\n",
       "    <tr>\n",
       "      <th>760522</th>\n",
       "      <td>46C8A_4_carbonDioxide_value</td>\n",
       "      <td>item0072</td>\n",
       "      <td>2018-04-26T14:00:03.403Z</td>\n",
       "      <td>565</td>\n",
       "      <td>46C8A</td>\n",
       "      <td>NaN</td>\n",
       "      <td>565.0</td>\n",
       "      <td>NaN</td>\n",
       "      <td>NaN</td>\n",
       "      <td>NaN</td>\n",
       "      <td>NaN</td>\n",
       "    </tr>\n",
       "    <tr>\n",
       "      <th>760523</th>\n",
       "      <td>Loisach_Occupancy</td>\n",
       "      <td>item0146</td>\n",
       "      <td>2018-04-26T14:00:52.918Z</td>\n",
       "      <td>occupied</td>\n",
       "      <td>Loisach</td>\n",
       "      <td>NaN</td>\n",
       "      <td>NaN</td>\n",
       "      <td>NaN</td>\n",
       "      <td>NaN</td>\n",
       "      <td>NaN</td>\n",
       "      <td>occupied</td>\n",
       "    </tr>\n",
       "  </tbody>\n",
       "</table>\n",
       "</div>"
      ],
      "text/plain": [
       "                           itemname sensorname                      time  \\\n",
       "760519  47406_4_carbonDioxide_value   item0126  2018-04-26T14:00:03.341Z   \n",
       "760520  47888_4_carbonDioxide_value   item0083  2018-04-26T14:00:03.362Z   \n",
       "760521  45C72_4_carbonDioxide_value   item0109  2018-04-26T14:00:03.383Z   \n",
       "760522  46C8A_4_carbonDioxide_value   item0072  2018-04-26T14:00:03.403Z   \n",
       "760523            Loisach_Occupancy   item0146  2018-04-26T14:00:52.918Z   \n",
       "\n",
       "           value       id  temperature  carbonDioxide  humidity  illuminance  \\\n",
       "760519       641    47406          NaN          641.0       NaN          NaN   \n",
       "760520       896    47888          NaN          896.0       NaN          NaN   \n",
       "760521       730    45C72          NaN          730.0       NaN          NaN   \n",
       "760522       565    46C8A          NaN          565.0       NaN          NaN   \n",
       "760523  occupied  Loisach          NaN            NaN       NaN          NaN   \n",
       "\n",
       "        pressure Occupancy  \n",
       "760519       NaN       NaN  \n",
       "760520       NaN       NaN  \n",
       "760521       NaN       NaN  \n",
       "760522       NaN       NaN  \n",
       "760523       NaN  occupied  "
      ]
     },
     "execution_count": 11,
     "metadata": {},
     "output_type": "execute_result"
    }
   ],
   "source": [
    "df.tail()"
   ]
  },
  {
   "cell_type": "code",
   "execution_count": 12,
   "metadata": {},
   "outputs": [
    {
     "data": {
      "text/html": [
       "<div>\n",
       "<style scoped>\n",
       "    .dataframe tbody tr th:only-of-type {\n",
       "        vertical-align: middle;\n",
       "    }\n",
       "\n",
       "    .dataframe tbody tr th {\n",
       "        vertical-align: top;\n",
       "    }\n",
       "\n",
       "    .dataframe thead th {\n",
       "        text-align: right;\n",
       "    }\n",
       "</style>\n",
       "<table border=\"1\" class=\"dataframe\">\n",
       "  <thead>\n",
       "    <tr style=\"text-align: right;\">\n",
       "      <th></th>\n",
       "      <th>temperature</th>\n",
       "      <th>carbonDioxide</th>\n",
       "      <th>humidity</th>\n",
       "      <th>illuminance</th>\n",
       "      <th>pressure</th>\n",
       "    </tr>\n",
       "  </thead>\n",
       "  <tbody>\n",
       "    <tr>\n",
       "      <th>count</th>\n",
       "      <td>342704.000000</td>\n",
       "      <td>50509.000000</td>\n",
       "      <td>160660.000000</td>\n",
       "      <td>102881.000000</td>\n",
       "      <td>58900.000000</td>\n",
       "    </tr>\n",
       "    <tr>\n",
       "      <th>mean</th>\n",
       "      <td>22.124608</td>\n",
       "      <td>531.344414</td>\n",
       "      <td>16.940346</td>\n",
       "      <td>162.919545</td>\n",
       "      <td>943.730369</td>\n",
       "    </tr>\n",
       "    <tr>\n",
       "      <th>std</th>\n",
       "      <td>1.815222</td>\n",
       "      <td>168.712879</td>\n",
       "      <td>5.128360</td>\n",
       "      <td>449.858628</td>\n",
       "      <td>8.895958</td>\n",
       "    </tr>\n",
       "    <tr>\n",
       "      <th>min</th>\n",
       "      <td>12.930000</td>\n",
       "      <td>395.000000</td>\n",
       "      <td>4.000000</td>\n",
       "      <td>0.000000</td>\n",
       "      <td>922.680000</td>\n",
       "    </tr>\n",
       "    <tr>\n",
       "      <th>25%</th>\n",
       "      <td>21.000000</td>\n",
       "      <td>412.000000</td>\n",
       "      <td>14.000000</td>\n",
       "      <td>0.460000</td>\n",
       "      <td>936.760000</td>\n",
       "    </tr>\n",
       "    <tr>\n",
       "      <th>50%</th>\n",
       "      <td>22.000000</td>\n",
       "      <td>472.000000</td>\n",
       "      <td>17.000000</td>\n",
       "      <td>14.720000</td>\n",
       "      <td>944.010000</td>\n",
       "    </tr>\n",
       "    <tr>\n",
       "      <th>75%</th>\n",
       "      <td>23.230000</td>\n",
       "      <td>579.000000</td>\n",
       "      <td>20.000000</td>\n",
       "      <td>162.380000</td>\n",
       "      <td>950.040000</td>\n",
       "    </tr>\n",
       "    <tr>\n",
       "      <th>max</th>\n",
       "      <td>32.780000</td>\n",
       "      <td>2215.000000</td>\n",
       "      <td>34.000000</td>\n",
       "      <td>15857.580000</td>\n",
       "      <td>967.260000</td>\n",
       "    </tr>\n",
       "  </tbody>\n",
       "</table>\n",
       "</div>"
      ],
      "text/plain": [
       "         temperature  carbonDioxide       humidity    illuminance  \\\n",
       "count  342704.000000   50509.000000  160660.000000  102881.000000   \n",
       "mean       22.124608     531.344414      16.940346     162.919545   \n",
       "std         1.815222     168.712879       5.128360     449.858628   \n",
       "min        12.930000     395.000000       4.000000       0.000000   \n",
       "25%        21.000000     412.000000      14.000000       0.460000   \n",
       "50%        22.000000     472.000000      17.000000      14.720000   \n",
       "75%        23.230000     579.000000      20.000000     162.380000   \n",
       "max        32.780000    2215.000000      34.000000   15857.580000   \n",
       "\n",
       "           pressure  \n",
       "count  58900.000000  \n",
       "mean     943.730369  \n",
       "std        8.895958  \n",
       "min      922.680000  \n",
       "25%      936.760000  \n",
       "50%      944.010000  \n",
       "75%      950.040000  \n",
       "max      967.260000  "
      ]
     },
     "execution_count": 12,
     "metadata": {},
     "output_type": "execute_result"
    }
   ],
   "source": [
    "df.describe()"
   ]
  },
  {
   "cell_type": "markdown",
   "metadata": {},
   "source": [
    "### Visualize Data with Pixidust"
   ]
  },
  {
   "cell_type": "code",
   "execution_count": 13,
   "metadata": {},
   "outputs": [
    {
     "name": "stdout",
     "output_type": "stream",
     "text": [
      "Pixiedust database opened successfully\n",
      "Table VERSION_TRACKER created successfully\n",
      "Table METRICS_TRACKER created successfully\n",
      "\n",
      "Share anonymous install statistics? (opt-out instructions)\n",
      "\n",
      "PixieDust will record metadata on its environment the next time the package is installed or updated. The data is anonymized and aggregated to help plan for future releases, and records only the following values:\n",
      "\n",
      "{\n",
      "   \"data_sent\": currentDate,\n",
      "   \"runtime\": \"python\",\n",
      "   \"application_version\": currentPixiedustVersion,\n",
      "   \"space_id\": nonIdentifyingUniqueId,\n",
      "   \"config\": {\n",
      "       \"repository_id\": \"https://github.com/ibm-watson-data-lab/pixiedust\",\n",
      "       \"target_runtimes\": [\"Data Science Experience\"],\n",
      "       \"event_id\": \"web\",\n",
      "       \"event_organizer\": \"dev-journeys\"\n",
      "   }\n",
      "}\n",
      "You can opt out by calling pixiedust.optOut() in a new cell.\n"
     ]
    },
    {
     "data": {
      "text/html": [
       "\n",
       "        <div style=\"margin:10px\">\n",
       "            <a href=\"https://github.com/ibm-watson-data-lab/pixiedust\" target=\"_new\">\n",
       "                <img src=\"https://github.com/ibm-watson-data-lab/pixiedust/raw/master/docs/_static/pd_icon32.png\" style=\"float:left;margin-right:10px\"/>\n",
       "            </a>\n",
       "            <span>Pixiedust version 1.1.14</span>\n",
       "        </div>\n",
       "        "
      ],
      "text/plain": [
       "<IPython.core.display.HTML object>"
      ]
     },
     "metadata": {},
     "output_type": "display_data"
    },
    {
     "name": "stdout",
     "output_type": "stream",
     "text": [
      "Pixiedust runtime updated. Please restart kernel\n",
      "Table USER_PREFERENCES created successfully\n",
      "Table service_connections created successfully\n"
     ]
    },
    {
     "data": {
      "text/html": [
       "<div>Warning: You are not running the latest version of PixieDust. Current is 1.1.14, Latest is 1.1.15</div>"
      ],
      "text/plain": [
       "<IPython.core.display.HTML object>"
      ]
     },
     "metadata": {},
     "output_type": "display_data"
    },
    {
     "data": {
      "text/html": [
       "\n",
       "                <div>Please copy and run the following command in a new cell to upgrade: <span style=\"background-color:#ececec;font-family:monospace;padding:0 5px\">!pip install --user --upgrade pixiedust</span></div>\n",
       "            "
      ],
      "text/plain": [
       "<IPython.core.display.HTML object>"
      ]
     },
     "metadata": {},
     "output_type": "display_data"
    },
    {
     "data": {
      "text/html": [
       "<div>Please restart kernel after upgrading.</div>"
      ],
      "text/plain": [
       "<IPython.core.display.HTML object>"
      ]
     },
     "metadata": {},
     "output_type": "display_data"
    }
   ],
   "source": [
    "import pixiedust"
   ]
  },
  {
   "cell_type": "code",
   "execution_count": 14,
   "metadata": {
    "pixiedust": {
     "displayParams": {
      "filter": "{\"regex\": \"false\", \"constraint\": \"None\", \"field\": \"id\", \"case_matter\": \"false\", \"value\": \"4674C\"}",
      "handlerId": "lineChart",
      "keyFields": "time",
      "legend": "true",
      "lineChartType": "subplots",
      "no_margin": "true",
      "rendererId": "matplotlib",
      "timeseries": "true",
      "title": "Shinano Meeting Room",
      "valueFields": "temperature"
     }
    }
   },
   "outputs": [
    {
     "data": {
      "text/html": [
       "<style type=\"text/css\">.pd_warning{display:none;}</style><div class=\"pd_warning\"><em>Hey, there's something awesome here! To see it, open this notebook outside GitHub, in a viewer like Jupyter</em></div>"
      ],
      "text/plain": [
       "<IPython.core.display.HTML object>"
      ]
     },
     "metadata": {
      "pixieapp_metadata": null
     },
     "output_type": "display_data"
    }
   ],
   "source": [
    "display(df)"
   ]
  },
  {
   "cell_type": "markdown",
   "metadata": {},
   "source": [
    "### Filter on Shinano and Fill Missing Values"
   ]
  },
  {
   "cell_type": "code",
   "execution_count": 15,
   "metadata": {},
   "outputs": [],
   "source": [
    "df_shinano = df[df['id'].isin(['4674C', 'Shinano'])].copy()"
   ]
  },
  {
   "cell_type": "code",
   "execution_count": 16,
   "metadata": {},
   "outputs": [],
   "source": [
    "df_shinano.sort_values(by='time', inplace=True)"
   ]
  },
  {
   "cell_type": "code",
   "execution_count": 17,
   "metadata": {},
   "outputs": [],
   "source": [
    "df_shinano.index = pd.to_datetime(df_shinano.time)"
   ]
  },
  {
   "cell_type": "code",
   "execution_count": 18,
   "metadata": {},
   "outputs": [],
   "source": [
    "df_shinano.fillna(method='ffill', inplace=True)"
   ]
  },
  {
   "cell_type": "code",
   "execution_count": 19,
   "metadata": {},
   "outputs": [],
   "source": [
    "df_shinano.fillna(method='bfill', inplace=True)"
   ]
  },
  {
   "cell_type": "code",
   "execution_count": 20,
   "metadata": {},
   "outputs": [
    {
     "data": {
      "text/html": [
       "<div>\n",
       "<style scoped>\n",
       "    .dataframe tbody tr th:only-of-type {\n",
       "        vertical-align: middle;\n",
       "    }\n",
       "\n",
       "    .dataframe tbody tr th {\n",
       "        vertical-align: top;\n",
       "    }\n",
       "\n",
       "    .dataframe thead th {\n",
       "        text-align: right;\n",
       "    }\n",
       "</style>\n",
       "<table border=\"1\" class=\"dataframe\">\n",
       "  <thead>\n",
       "    <tr style=\"text-align: right;\">\n",
       "      <th></th>\n",
       "      <th>itemname</th>\n",
       "      <th>sensorname</th>\n",
       "      <th>time</th>\n",
       "      <th>value</th>\n",
       "      <th>id</th>\n",
       "      <th>temperature</th>\n",
       "      <th>carbonDioxide</th>\n",
       "      <th>humidity</th>\n",
       "      <th>illuminance</th>\n",
       "      <th>pressure</th>\n",
       "      <th>Occupancy</th>\n",
       "    </tr>\n",
       "    <tr>\n",
       "      <th>time</th>\n",
       "      <th></th>\n",
       "      <th></th>\n",
       "      <th></th>\n",
       "      <th></th>\n",
       "      <th></th>\n",
       "      <th></th>\n",
       "      <th></th>\n",
       "      <th></th>\n",
       "      <th></th>\n",
       "      <th></th>\n",
       "      <th></th>\n",
       "    </tr>\n",
       "  </thead>\n",
       "  <tbody>\n",
       "    <tr>\n",
       "      <th>2018-02-19 07:05:05.008</th>\n",
       "      <td>4674C_3_temperature_value</td>\n",
       "      <td>item0066</td>\n",
       "      <td>2018-02-19T07:05:05.008Z</td>\n",
       "      <td>18.5</td>\n",
       "      <td>4674C</td>\n",
       "      <td>18.50</td>\n",
       "      <td>455.0</td>\n",
       "      <td>16.0</td>\n",
       "      <td>NaN</td>\n",
       "      <td>950.51</td>\n",
       "      <td>free</td>\n",
       "    </tr>\n",
       "    <tr>\n",
       "      <th>2018-02-19 07:10:00.118</th>\n",
       "      <td>4674C_4_carbonDioxide_value</td>\n",
       "      <td>item0095</td>\n",
       "      <td>2018-02-19T07:10:00.118Z</td>\n",
       "      <td>455</td>\n",
       "      <td>4674C</td>\n",
       "      <td>18.50</td>\n",
       "      <td>455.0</td>\n",
       "      <td>16.0</td>\n",
       "      <td>NaN</td>\n",
       "      <td>950.51</td>\n",
       "      <td>free</td>\n",
       "    </tr>\n",
       "    <tr>\n",
       "      <th>2018-02-19 07:15:01.061</th>\n",
       "      <td>4674C_6_pressure_value</td>\n",
       "      <td>item0096</td>\n",
       "      <td>2018-02-19T07:15:01.061Z</td>\n",
       "      <td>950.51</td>\n",
       "      <td>4674C</td>\n",
       "      <td>18.50</td>\n",
       "      <td>455.0</td>\n",
       "      <td>16.0</td>\n",
       "      <td>NaN</td>\n",
       "      <td>950.51</td>\n",
       "      <td>free</td>\n",
       "    </tr>\n",
       "    <tr>\n",
       "      <th>2018-02-19 07:15:01.460</th>\n",
       "      <td>4674C_3_humidity_value</td>\n",
       "      <td>item0094</td>\n",
       "      <td>2018-02-19T07:15:01.460Z</td>\n",
       "      <td>16</td>\n",
       "      <td>4674C</td>\n",
       "      <td>18.50</td>\n",
       "      <td>455.0</td>\n",
       "      <td>16.0</td>\n",
       "      <td>NaN</td>\n",
       "      <td>950.51</td>\n",
       "      <td>free</td>\n",
       "    </tr>\n",
       "    <tr>\n",
       "      <th>2018-02-19 07:15:01.574</th>\n",
       "      <td>4674C_3_temperature_value</td>\n",
       "      <td>item0066</td>\n",
       "      <td>2018-02-19T07:15:01.574Z</td>\n",
       "      <td>18.58</td>\n",
       "      <td>4674C</td>\n",
       "      <td>18.58</td>\n",
       "      <td>455.0</td>\n",
       "      <td>16.0</td>\n",
       "      <td>NaN</td>\n",
       "      <td>950.51</td>\n",
       "      <td>free</td>\n",
       "    </tr>\n",
       "  </tbody>\n",
       "</table>\n",
       "</div>"
      ],
      "text/plain": [
       "                                            itemname sensorname  \\\n",
       "time                                                              \n",
       "2018-02-19 07:05:05.008    4674C_3_temperature_value   item0066   \n",
       "2018-02-19 07:10:00.118  4674C_4_carbonDioxide_value   item0095   \n",
       "2018-02-19 07:15:01.061       4674C_6_pressure_value   item0096   \n",
       "2018-02-19 07:15:01.460       4674C_3_humidity_value   item0094   \n",
       "2018-02-19 07:15:01.574    4674C_3_temperature_value   item0066   \n",
       "\n",
       "                                             time   value     id  temperature  \\\n",
       "time                                                                            \n",
       "2018-02-19 07:05:05.008  2018-02-19T07:05:05.008Z    18.5  4674C        18.50   \n",
       "2018-02-19 07:10:00.118  2018-02-19T07:10:00.118Z     455  4674C        18.50   \n",
       "2018-02-19 07:15:01.061  2018-02-19T07:15:01.061Z  950.51  4674C        18.50   \n",
       "2018-02-19 07:15:01.460  2018-02-19T07:15:01.460Z      16  4674C        18.50   \n",
       "2018-02-19 07:15:01.574  2018-02-19T07:15:01.574Z   18.58  4674C        18.58   \n",
       "\n",
       "                         carbonDioxide  humidity  illuminance  pressure  \\\n",
       "time                                                                      \n",
       "2018-02-19 07:05:05.008          455.0      16.0          NaN    950.51   \n",
       "2018-02-19 07:10:00.118          455.0      16.0          NaN    950.51   \n",
       "2018-02-19 07:15:01.061          455.0      16.0          NaN    950.51   \n",
       "2018-02-19 07:15:01.460          455.0      16.0          NaN    950.51   \n",
       "2018-02-19 07:15:01.574          455.0      16.0          NaN    950.51   \n",
       "\n",
       "                        Occupancy  \n",
       "time                               \n",
       "2018-02-19 07:05:05.008      free  \n",
       "2018-02-19 07:10:00.118      free  \n",
       "2018-02-19 07:15:01.061      free  \n",
       "2018-02-19 07:15:01.460      free  \n",
       "2018-02-19 07:15:01.574      free  "
      ]
     },
     "execution_count": 20,
     "metadata": {},
     "output_type": "execute_result"
    }
   ],
   "source": [
    "df_shinano.head()"
   ]
  },
  {
   "cell_type": "code",
   "execution_count": 21,
   "metadata": {},
   "outputs": [],
   "source": [
    "df_shinano.drop(['illuminance'], axis=1, inplace=True)"
   ]
  },
  {
   "cell_type": "code",
   "execution_count": 22,
   "metadata": {},
   "outputs": [
    {
     "data": {
      "text/html": [
       "<div>\n",
       "<style scoped>\n",
       "    .dataframe tbody tr th:only-of-type {\n",
       "        vertical-align: middle;\n",
       "    }\n",
       "\n",
       "    .dataframe tbody tr th {\n",
       "        vertical-align: top;\n",
       "    }\n",
       "\n",
       "    .dataframe thead th {\n",
       "        text-align: right;\n",
       "    }\n",
       "</style>\n",
       "<table border=\"1\" class=\"dataframe\">\n",
       "  <thead>\n",
       "    <tr style=\"text-align: right;\">\n",
       "      <th></th>\n",
       "      <th>temperature</th>\n",
       "      <th>carbonDioxide</th>\n",
       "      <th>humidity</th>\n",
       "      <th>pressure</th>\n",
       "    </tr>\n",
       "  </thead>\n",
       "  <tbody>\n",
       "    <tr>\n",
       "      <th>count</th>\n",
       "      <td>22744.000000</td>\n",
       "      <td>22744.000000</td>\n",
       "      <td>22744.000000</td>\n",
       "      <td>22744.000000</td>\n",
       "    </tr>\n",
       "    <tr>\n",
       "      <th>mean</th>\n",
       "      <td>21.716864</td>\n",
       "      <td>617.600114</td>\n",
       "      <td>17.815732</td>\n",
       "      <td>941.909597</td>\n",
       "    </tr>\n",
       "    <tr>\n",
       "      <th>std</th>\n",
       "      <td>2.472216</td>\n",
       "      <td>232.130746</td>\n",
       "      <td>3.968186</td>\n",
       "      <td>8.905109</td>\n",
       "    </tr>\n",
       "    <tr>\n",
       "      <th>min</th>\n",
       "      <td>15.210000</td>\n",
       "      <td>398.000000</td>\n",
       "      <td>7.000000</td>\n",
       "      <td>922.980000</td>\n",
       "    </tr>\n",
       "    <tr>\n",
       "      <th>25%</th>\n",
       "      <td>20.280000</td>\n",
       "      <td>431.000000</td>\n",
       "      <td>15.000000</td>\n",
       "      <td>934.630000</td>\n",
       "    </tr>\n",
       "    <tr>\n",
       "      <th>50%</th>\n",
       "      <td>21.720000</td>\n",
       "      <td>558.000000</td>\n",
       "      <td>18.000000</td>\n",
       "      <td>942.615000</td>\n",
       "    </tr>\n",
       "    <tr>\n",
       "      <th>75%</th>\n",
       "      <td>22.810000</td>\n",
       "      <td>706.000000</td>\n",
       "      <td>20.000000</td>\n",
       "      <td>948.130000</td>\n",
       "    </tr>\n",
       "    <tr>\n",
       "      <th>max</th>\n",
       "      <td>32.780000</td>\n",
       "      <td>2215.000000</td>\n",
       "      <td>31.000000</td>\n",
       "      <td>962.590000</td>\n",
       "    </tr>\n",
       "  </tbody>\n",
       "</table>\n",
       "</div>"
      ],
      "text/plain": [
       "        temperature  carbonDioxide      humidity      pressure\n",
       "count  22744.000000   22744.000000  22744.000000  22744.000000\n",
       "mean      21.716864     617.600114     17.815732    941.909597\n",
       "std        2.472216     232.130746      3.968186      8.905109\n",
       "min       15.210000     398.000000      7.000000    922.980000\n",
       "25%       20.280000     431.000000     15.000000    934.630000\n",
       "50%       21.720000     558.000000     18.000000    942.615000\n",
       "75%       22.810000     706.000000     20.000000    948.130000\n",
       "max       32.780000    2215.000000     31.000000    962.590000"
      ]
     },
     "execution_count": 22,
     "metadata": {},
     "output_type": "execute_result"
    }
   ],
   "source": [
    "df_shinano.describe()"
   ]
  },
  {
   "cell_type": "code",
   "execution_count": 23,
   "metadata": {},
   "outputs": [
    {
     "data": {
      "text/plain": [
       "array(['free', 'occupied'], dtype=object)"
      ]
     },
     "execution_count": 23,
     "metadata": {},
     "output_type": "execute_result"
    }
   ],
   "source": [
    "df_shinano.Occupancy.unique()"
   ]
  },
  {
   "cell_type": "code",
   "execution_count": 24,
   "metadata": {},
   "outputs": [
    {
     "data": {
      "text/plain": [
       "Occupancy\n",
       "free        16948\n",
       "occupied     5796\n",
       "Name: time, dtype: int64"
      ]
     },
     "execution_count": 24,
     "metadata": {},
     "output_type": "execute_result"
    }
   ],
   "source": [
    "df_shinano.groupby('Occupancy')['time'].nunique()"
   ]
  },
  {
   "cell_type": "markdown",
   "metadata": {},
   "source": [
    "### Plot Sensor Values depending on Occupancy State"
   ]
  },
  {
   "cell_type": "code",
   "execution_count": 25,
   "metadata": {},
   "outputs": [],
   "source": [
    "import matplotlib.pyplot as plt"
   ]
  },
  {
   "cell_type": "code",
   "execution_count": 26,
   "metadata": {},
   "outputs": [
    {
     "data": {
      "text/plain": [
       "<matplotlib.axes._subplots.AxesSubplot at 0x2ad954a0cbe0>"
      ]
     },
     "execution_count": 26,
     "metadata": {},
     "output_type": "execute_result"
    },
    {
     "data": {
      "image/png": "[encoded data removed]",
      "text/plain": [
       "<matplotlib.figure.Figure at 0x2ad95643b320>"
      ]
     },
     "metadata": {},
     "output_type": "display_data"
    }
   ],
   "source": [
    "df_shinano.temperature.plot()"
   ]
  },
  {
   "cell_type": "markdown",
   "metadata": {},
   "source": [
    "### Build Simple Prediction Model"
   ]
  },
  {
   "cell_type": "code",
   "execution_count": 27,
   "metadata": {},
   "outputs": [],
   "source": [
    "from sklearn.model_selection import train_test_split"
   ]
  },
  {
   "cell_type": "code",
   "execution_count": 28,
   "metadata": {},
   "outputs": [],
   "source": [
    "df_shinano_model = df_shinano.copy()"
   ]
  },
  {
   "cell_type": "code",
   "execution_count": 29,
   "metadata": {},
   "outputs": [],
   "source": [
    "df_shinano_model.loc[df_shinano_model.Occupancy == 'free', 'Occupancy'] = 0\n",
    "df_shinano_model.loc[df_shinano_model.Occupancy == 'occupied', 'Occupancy'] = 1"
   ]
  },
  {
   "cell_type": "code",
   "execution_count": 30,
   "metadata": {},
   "outputs": [
    {
     "data": {
      "text/plain": [
       "array([0, 0, 0, ..., 0, 0, 0])"
      ]
     },
     "execution_count": 30,
     "metadata": {},
     "output_type": "execute_result"
    }
   ],
   "source": [
    "y = df_shinano_model['Occupancy'].values\n",
    "y"
   ]
  },
  {
   "cell_type": "code",
   "execution_count": 31,
   "metadata": {},
   "outputs": [
    {
     "data": {
      "text/plain": [
       "array([[  18.5 ,  455.  ,   16.  ,  950.51],\n",
       "       [  18.5 ,  455.  ,   16.  ,  950.51],\n",
       "       [  18.5 ,  455.  ,   16.  ,  950.51],\n",
       "       ..., \n",
       "       [  22.22,  815.  ,   21.  ,  949.91],\n",
       "       [  22.39,  815.  ,   21.  ,  949.91],\n",
       "       [  22.39,  812.  ,   21.  ,  949.91]])"
      ]
     },
     "execution_count": 31,
     "metadata": {},
     "output_type": "execute_result"
    }
   ],
   "source": [
    "X = df_shinano_model.loc[:, ['temperature', 'carbonDioxide', 'humidity', 'pressure']].values\n",
    "X"
   ]
  },
  {
   "cell_type": "code",
   "execution_count": 32,
   "metadata": {},
   "outputs": [],
   "source": [
    "X_train, X_test, y_train, y_test = train_test_split(X, y, test_size=0.2, random_state=42)"
   ]
  },
  {
   "cell_type": "code",
   "execution_count": 33,
   "metadata": {},
   "outputs": [],
   "source": [
    "import numpy as np\n",
    "from sklearn.ensemble import RandomForestClassifier\n",
    "from sklearn.metrics import classification_report\n",
    "from sklearn.model_selection import learning_curve"
   ]
  },
  {
   "cell_type": "code",
   "execution_count": 34,
   "metadata": {},
   "outputs": [],
   "source": [
    "def plot_learning_curve(estimator, title, X, y, ylim=None, cv=None,\n",
    "                        n_jobs=1, train_sizes=np.linspace(.1, 1.0, 5)):\n",
    "    plt.figure()\n",
    "    plt.title(title)\n",
    "    if ylim is not None:\n",
    "        plt.ylim(*ylim)\n",
    "    plt.xlabel(\"Training examples\")\n",
    "    plt.ylabel(\"Score\")\n",
    "    train_sizes, train_scores, test_scores = learning_curve(\n",
    "        estimator, X, y, cv=cv, n_jobs=n_jobs, train_sizes=train_sizes)\n",
    "    train_scores_mean = np.mean(train_scores, axis=1)\n",
    "    train_scores_std = np.std(train_scores, axis=1)\n",
    "    test_scores_mean = np.mean(test_scores, axis=1)\n",
    "    test_scores_std = np.std(test_scores, axis=1)\n",
    "    plt.grid()\n",
    "\n",
    "    plt.fill_between(train_sizes, train_scores_mean - train_scores_std,\n",
    "                     train_scores_mean + train_scores_std, alpha=0.1,\n",
    "                     color=\"r\")\n",
    "    plt.fill_between(train_sizes, test_scores_mean - test_scores_std,\n",
    "                     test_scores_mean + test_scores_std, alpha=0.1, color=\"g\")\n",
    "    plt.plot(train_sizes, train_scores_mean, 'o-', color=\"r\",\n",
    "             label=\"Training score\")\n",
    "    plt.plot(train_sizes, test_scores_mean, 'o-', color=\"g\",\n",
    "             label=\"Cross-validation score\")\n",
    "\n",
    "    plt.legend(loc=\"best\")\n",
    "    return plt"
   ]
  },
  {
   "cell_type": "code",
   "execution_count": 35,
   "metadata": {},
   "outputs": [],
   "source": [
    "clf = RandomForestClassifier(n_estimators=1)"
   ]
  },
  {
   "cell_type": "code",
   "execution_count": 36,
   "metadata": {},
   "outputs": [
    {
     "data": {
      "text/plain": [
       "RandomForestClassifier(bootstrap=True, class_weight=None, criterion='gini',\n",
       "            max_depth=None, max_features='auto', max_leaf_nodes=None,\n",
       "            min_impurity_decrease=0.0, min_impurity_split=None,\n",
       "            min_samples_leaf=1, min_samples_split=2,\n",
       "            min_weight_fraction_leaf=0.0, n_estimators=1, n_jobs=1,\n",
       "            oob_score=False, random_state=None, verbose=0,\n",
       "            warm_start=False)"
      ]
     },
     "execution_count": 36,
     "metadata": {},
     "output_type": "execute_result"
    }
   ],
   "source": [
    "clf.fit(X_train, y_train)"
   ]
  },
  {
   "cell_type": "code",
   "execution_count": 37,
   "metadata": {},
   "outputs": [
    {
     "data": {
      "text/plain": [
       "0.91624532864365793"
      ]
     },
     "execution_count": 37,
     "metadata": {},
     "output_type": "execute_result"
    }
   ],
   "source": [
    "clf.score(X_test, y_test)"
   ]
  },
  {
   "cell_type": "code",
   "execution_count": 38,
   "metadata": {},
   "outputs": [],
   "source": [
    "predictions = clf.predict(X_test)"
   ]
  },
  {
   "cell_type": "code",
   "execution_count": 39,
   "metadata": {},
   "outputs": [
    {
     "name": "stdout",
     "output_type": "stream",
     "text": [
      "             precision    recall  f1-score   support\n",
      "\n",
      "          0       0.94      0.95      0.94      3377\n",
      "          1       0.85      0.82      0.83      1172\n",
      "\n",
      "avg / total       0.92      0.92      0.92      4549\n",
      "\n"
     ]
    }
   ],
   "source": [
    "print(classification_report(y_test, predictions))"
   ]
  },
  {
   "cell_type": "code",
   "execution_count": 40,
   "metadata": {},
   "outputs": [
    {
     "data": {
      "image/png": "[encoded data removed]",
      "text/plain": [
       "<matplotlib.figure.Figure at 0x2ad95479b6d8>"
      ]
     },
     "metadata": {},
     "output_type": "display_data"
    }
   ],
   "source": [
    "title = 'Learning Curves (Random Forest)'\n",
    "estimator = clf\n",
    "plot_learning_curve(estimator, title, X_train, y_train)\n",
    "plt.show()"
   ]
  }
 ],
 "metadata": {
  "kernelspec": {
   "display_name": "Python 3.5",
   "language": "python",
   "name": "python3"
  },
  "language_info": {
   "codemirror_mode": {
    "name": "ipython",
    "version": 3
   },
   "file_extension": ".py",
   "mimetype": "text/x-python",
   "name": "python",
   "nbconvert_exporter": "python",
   "pygments_lexer": "ipython3",
   "version": "3.5.5"
  }
 },
 "nbformat": 4,
 "nbformat_minor": 1
}
