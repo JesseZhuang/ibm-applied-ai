{
 "cells": [
  {
   "cell_type": "code",
   "execution_count": 3,
   "metadata": {},
   "outputs": [
    {
     "name": "stdout",
     "output_type": "stream",
     "text": [
      "+---+---+---+--------------------+------------+\n",
      "|  x|  y|  z|              source|       class|\n",
      "+---+---+---+--------------------+------------+\n",
      "| 30| 36| 52|Accelerometer-201...|Climb_stairs|\n",
      "| 30| 36| 32|Accelerometer-201...|Climb_stairs|\n",
      "| 32| 30| 36|Accelerometer-201...|Climb_stairs|\n",
      "| 32| 30| 36|Accelerometer-201...|Climb_stairs|\n",
      "| 32| 30| 36|Accelerometer-201...|Climb_stairs|\n",
      "| 32| 33| 36|Accelerometer-201...|Climb_stairs|\n",
      "| 32| 30| 36|Accelerometer-201...|Climb_stairs|\n",
      "| 30| 37| 50|Accelerometer-201...|Climb_stairs|\n",
      "| 31| 37| 50|Accelerometer-201...|Climb_stairs|\n",
      "| 29| 38| 50|Accelerometer-201...|Climb_stairs|\n",
      "| 32| 39| 48|Accelerometer-201...|Climb_stairs|\n",
      "| 32| 41| 46|Accelerometer-201...|Climb_stairs|\n",
      "| 34| 39| 44|Accelerometer-201...|Climb_stairs|\n",
      "| 34| 39| 41|Accelerometer-201...|Climb_stairs|\n",
      "| 31| 39| 42|Accelerometer-201...|Climb_stairs|\n",
      "| 32| 42| 43|Accelerometer-201...|Climb_stairs|\n",
      "| 31| 43| 43|Accelerometer-201...|Climb_stairs|\n",
      "| 28| 46| 44|Accelerometer-201...|Climb_stairs|\n",
      "| 26| 48| 43|Accelerometer-201...|Climb_stairs|\n",
      "| 22| 41| 40|Accelerometer-201...|Climb_stairs|\n",
      "+---+---+---+--------------------+------------+\n",
      "only showing top 20 rows\n",
      "\n"
     ]
    }
   ],
   "source": [
    "import ibmos2spark\n",
    "\n",
    "# @hidden_cell\n",
    "credentials = {\n",
    "    'endpoint': 'https://s3-api.us-geo.objectstorage.service.networklayer.com',\n",
    "    'api_key': 'iTf***',\n",
    "    'service_id': 'iam-ServiceId-d4b06e46-293a-4417-b76c-2f16076a9353',\n",
    "    'iam_service_endpoint': 'https://iam.ng.bluemix.net/oidc/token'}\n",
    "\n",
    "configuration_name = 'os_b0f1407510994fd1b793b85137baafb8_configs'\n",
    "cos = ibmos2spark.CloudObjectStorage(sc, credentials, configuration_name, 'bluemix_cos')\n",
    "\n",
    "from pyspark.sql import SparkSession\n",
    "spark = SparkSession.builder.getOrCreate()\n",
    "# Since JSON data can be semi-structured and contain additional metadata, it is possible that you might face issues with the DataFrame layout.\n",
    "# Please read the documentation of 'SparkSession.read()' to learn more about the possibilities to adjust the data loading.\n",
    "# PySpark documentation: http://spark.apache.org/docs/2.0.2/api/python/pyspark.sql.html#pyspark.sql.DataFrameReader.json\n",
    "\n",
    "df = spark.read.parquet(cos.url('hmp.parquet', 'courseraml-donotdelete-pr-qve0ttzezdeodc'))\n",
    "df.show()\n"
   ]
  },
  {
   "cell_type": "code",
   "execution_count": 5,
   "metadata": {},
   "outputs": [
    {
     "name": "stdout",
     "output_type": "stream",
     "text": [
      "+------------------+--------------+\n",
      "|             label|         class|\n",
      "+------------------+--------------+\n",
      "| 8959.680239829991| Use_telephone|\n",
      "| 9737.511232342687| Standup_chair|\n",
      "| 12542.96539897962|      Eat_meat|\n",
      "|13225.945637269193|     Getup_bed|\n",
      "|15003.269043778426|   Drink_glass|\n",
      "|14454.885091207056|    Pour_water|\n",
      "|10616.408809008817|     Comb_hair|\n",
      "|11082.626493751379|  Climb_stairs|\n",
      "|10261.338314274606| Sitdown_chair|\n",
      "|6783.4063714331605|   Liedown_bed|\n",
      "| 7173.493500380411|Descend_stairs|\n",
      "| 11785.39634462923|   Brush_teeth|\n",
      "| 6071.460120926432|      Eat_soup|\n",
      "+------------------+--------------+\n",
      "\n"
     ]
    }
   ],
   "source": [
    "df.createOrReplaceTempView('df')\n",
    "\n",
    "# linear regresssion\n",
    "df_energy = spark.sql(\"\"\"\n",
    "select sqrt(sum(x*x)+sum(y*y)+sum(z*z)) as label, class from df group by class\n",
    "\"\"\")\n",
    "df_energy.show()\n",
    "df_energy.createOrReplaceTempView('df_energy')"
   ]
  },
  {
   "cell_type": "code",
   "execution_count": 6,
   "metadata": {},
   "outputs": [
    {
     "name": "stdout",
     "output_type": "stream",
     "text": [
      "+---+---+---+--------------------+------------+------------------+------------+\n",
      "|  x|  y|  z|              source|       class|             label|       class|\n",
      "+---+---+---+--------------------+------------+------------------+------------+\n",
      "| 30| 36| 52|Accelerometer-201...|Climb_stairs|11082.626493751379|Climb_stairs|\n",
      "| 30| 36| 32|Accelerometer-201...|Climb_stairs|11082.626493751379|Climb_stairs|\n",
      "| 32| 30| 36|Accelerometer-201...|Climb_stairs|11082.626493751379|Climb_stairs|\n",
      "| 32| 30| 36|Accelerometer-201...|Climb_stairs|11082.626493751379|Climb_stairs|\n",
      "| 32| 30| 36|Accelerometer-201...|Climb_stairs|11082.626493751379|Climb_stairs|\n",
      "| 32| 33| 36|Accelerometer-201...|Climb_stairs|11082.626493751379|Climb_stairs|\n",
      "| 32| 30| 36|Accelerometer-201...|Climb_stairs|11082.626493751379|Climb_stairs|\n",
      "| 30| 37| 50|Accelerometer-201...|Climb_stairs|11082.626493751379|Climb_stairs|\n",
      "| 31| 37| 50|Accelerometer-201...|Climb_stairs|11082.626493751379|Climb_stairs|\n",
      "| 29| 38| 50|Accelerometer-201...|Climb_stairs|11082.626493751379|Climb_stairs|\n",
      "| 32| 39| 48|Accelerometer-201...|Climb_stairs|11082.626493751379|Climb_stairs|\n",
      "| 32| 41| 46|Accelerometer-201...|Climb_stairs|11082.626493751379|Climb_stairs|\n",
      "| 34| 39| 44|Accelerometer-201...|Climb_stairs|11082.626493751379|Climb_stairs|\n",
      "| 34| 39| 41|Accelerometer-201...|Climb_stairs|11082.626493751379|Climb_stairs|\n",
      "| 31| 39| 42|Accelerometer-201...|Climb_stairs|11082.626493751379|Climb_stairs|\n",
      "| 32| 42| 43|Accelerometer-201...|Climb_stairs|11082.626493751379|Climb_stairs|\n",
      "| 31| 43| 43|Accelerometer-201...|Climb_stairs|11082.626493751379|Climb_stairs|\n",
      "| 28| 46| 44|Accelerometer-201...|Climb_stairs|11082.626493751379|Climb_stairs|\n",
      "| 26| 48| 43|Accelerometer-201...|Climb_stairs|11082.626493751379|Climb_stairs|\n",
      "| 22| 41| 40|Accelerometer-201...|Climb_stairs|11082.626493751379|Climb_stairs|\n",
      "+---+---+---+--------------------+------------+------------------+------------+\n",
      "only showing top 20 rows\n",
      "\n"
     ]
    }
   ],
   "source": [
    "df_join = spark.sql(\"\"\"\n",
    "select * from df inner join df_energy on df.class=df_energy.class\n",
    "\"\"\")\n",
    "df_join.show()"
   ]
  },
  {
   "cell_type": "code",
   "execution_count": 7,
   "metadata": {},
   "outputs": [],
   "source": [
    "from pyspark.ml.feature import VectorAssembler, Normalizer\n",
    "\n",
    "vectorAssembler = VectorAssembler(inputCols=[\"x\",\"y\",\"z\"],\n",
    "                                  outputCol=\"features\")\n",
    "normalizer = Normalizer(inputCol=\"features\", outputCol=\"features_norm\", p=1.0)"
   ]
  },
  {
   "cell_type": "code",
   "execution_count": 8,
   "metadata": {},
   "outputs": [],
   "source": [
    "from pyspark.ml.regression import LinearRegression\n",
    "\n",
    "lr = LinearRegression(maxIter=10, regParam=0.3, elasticNetParam=0.8)"
   ]
  },
  {
   "cell_type": "code",
   "execution_count": 9,
   "metadata": {},
   "outputs": [],
   "source": [
    "from pyspark.ml import Pipeline\n",
    "pipeline = Pipeline(stages=[vectorAssembler, normalizer,lr])"
   ]
  },
  {
   "cell_type": "code",
   "execution_count": 10,
   "metadata": {},
   "outputs": [
    {
     "name": "stdout",
     "output_type": "stream",
     "text": [
      "+---+---+---+--------------------+------------+------------------+------------+----------------+--------------------+------------------+\n",
      "|  x|  y|  z|              source|       class|             label|       class|        features|       features_norm|        prediction|\n",
      "+---+---+---+--------------------+------------+------------------+------------+----------------+--------------------+------------------+\n",
      "| 30| 36| 52|Accelerometer-201...|Climb_stairs|11082.626493751379|Climb_stairs|[30.0,36.0,52.0]|[0.25423728813559...|12378.337524478058|\n",
      "| 30| 36| 32|Accelerometer-201...|Climb_stairs|11082.626493751379|Climb_stairs|[30.0,36.0,32.0]|[0.30612244897959...|10949.223755865942|\n",
      "| 32| 30| 36|Accelerometer-201...|Climb_stairs|11082.626493751379|Climb_stairs|[32.0,30.0,36.0]|[0.32653061224489...|11232.049623881609|\n",
      "| 32| 30| 36|Accelerometer-201...|Climb_stairs|11082.626493751379|Climb_stairs|[32.0,30.0,36.0]|[0.32653061224489...|11232.049623881609|\n",
      "| 32| 30| 36|Accelerometer-201...|Climb_stairs|11082.626493751379|Climb_stairs|[32.0,30.0,36.0]|[0.32653061224489...|11232.049623881609|\n",
      "| 32| 33| 36|Accelerometer-201...|Climb_stairs|11082.626493751379|Climb_stairs|[32.0,33.0,36.0]|[0.31683168316831...|11251.923475263653|\n",
      "| 32| 30| 36|Accelerometer-201...|Climb_stairs|11082.626493751379|Climb_stairs|[32.0,30.0,36.0]|[0.32653061224489...|11232.049623881609|\n",
      "| 30| 37| 50|Accelerometer-201...|Climb_stairs|11082.626493751379|Climb_stairs|[30.0,37.0,50.0]|[0.25641025641025...|12242.050764744195|\n",
      "| 31| 37| 50|Accelerometer-201...|Climb_stairs|11082.626493751379|Climb_stairs|[31.0,37.0,50.0]|[0.26271186440677...| 12260.42617327286|\n",
      "| 29| 38| 50|Accelerometer-201...|Climb_stairs|11082.626493751379|Climb_stairs|[29.0,38.0,50.0]|[0.24786324786324...|12230.299973342877|\n",
      "| 32| 39| 48|Accelerometer-201...|Climb_stairs|11082.626493751379|Climb_stairs|[32.0,39.0,48.0]|[0.26890756302521...|12149.139439195013|\n",
      "| 32| 41| 46|Accelerometer-201...|Climb_stairs|11082.626493751379|Climb_stairs|[32.0,41.0,46.0]|[0.26890756302521...|12019.477296588495|\n",
      "| 34| 39| 44|Accelerometer-201...|Climb_stairs|11082.626493751379|Climb_stairs|[34.0,39.0,44.0]|[0.29059829059829...| 11900.06750252992|\n",
      "| 34| 39| 41|Accelerometer-201...|Climb_stairs|11082.626493751379|Climb_stairs|[34.0,39.0,41.0]|[0.29824561403508...|11685.700437238103|\n",
      "| 31| 39| 42|Accelerometer-201...|Climb_stairs|11082.626493751379|Climb_stairs|[31.0,39.0,42.0]|[0.27678571428571...| 11702.02990008271|\n",
      "| 32| 42| 43|Accelerometer-201...|Climb_stairs|11082.626493751379|Climb_stairs|[32.0,42.0,43.0]|[0.27350427350427...|11811.734848424026|\n",
      "| 31| 43| 43|Accelerometer-201...|Climb_stairs|11082.626493751379|Climb_stairs|[31.0,43.0,43.0]|[0.26495726495726...|11799.984057022708|\n",
      "| 28| 46| 44|Accelerometer-201...|Climb_stairs|11082.626493751379|Climb_stairs|[28.0,46.0,44.0]|[0.23728813559322...|11836.187371249358|\n",
      "| 26| 48| 43|Accelerometer-201...|Climb_stairs|11082.626493751379|Climb_stairs|[26.0,48.0,43.0]|[0.22222222222222...|11741.230100016117|\n",
      "| 22| 41| 40|Accelerometer-201...|Climb_stairs|11082.626493751379|Climb_stairs|[22.0,41.0,40.0]|[0.21359223300970...|11406.989080718198|\n",
      "+---+---+---+--------------------+------------+------------------+------------+----------------+--------------------+------------------+\n",
      "only showing top 20 rows\n",
      "\n"
     ]
    }
   ],
   "source": [
    "model = pipeline.fit(df_join)\n",
    "prediction = model.transform(df_join)\n",
    "\n",
    "prediction.show()"
   ]
  },
  {
   "cell_type": "code",
   "execution_count": 12,
   "metadata": {},
   "outputs": [
    {
     "data": {
      "text/plain": [
       "0.0912330479847846"
      ]
     },
     "execution_count": 12,
     "metadata": {},
     "output_type": "execute_result"
    }
   ],
   "source": [
    "model.stages[2].summary.r2"
   ]
  },
  {
   "cell_type": "code",
   "execution_count": null,
   "metadata": {},
   "outputs": [],
   "source": []
  }
 ],
 "metadata": {
  "kernelspec": {
   "display_name": "Python 3.5 with Spark 2.1",
   "language": "python",
   "name": "python3-spark21"
  },
  "language_info": {
   "codemirror_mode": {
    "name": "ipython",
    "version": 3
   },
   "file_extension": ".py",
   "mimetype": "text/x-python",
   "name": "python",
   "nbconvert_exporter": "python",
   "pygments_lexer": "ipython3",
   "version": "3.5.4"
  }
 },
 "nbformat": 4,
 "nbformat_minor": 1
}
