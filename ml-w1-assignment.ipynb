{
 "cells": [
  {
   "cell_type": "markdown",
   "metadata": {},
   "source": [
    "This is the first assgiment for the Coursera course \"Advanced Machine Learning and Signal Processing\"\n",
    "\n",
    "The first step is to insert the credentials to the Apache CouchDB / Cloudant database where your sensor data ist stored to. \n",
    "\n",
    "1. In the project's overview tab of this project just select \"Add to project\"->Connection\n",
    "2. From the section \"Your service instances in IBM Cloud\" select your cloudant database and click on \"create\"\n",
    "3. Now click in the empty cell below labeled with \"your cloudant credentials go here\"\n",
    "4. Click on the \"10-01\" symbol top right and selecrt the \"Connections\" tab\n",
    "5. Find your data base connection and click on \"Insert to code\"\n",
    "\n",
    "The following video illustrates this process: https://www.youtube.com/watch?v=dCawUGv7qgs\n",
    "\n",
    "Done, just execute all cells one after the other and you are done - just note that in the last one you have to update your email address (the one you've used for coursera) and obtain a submittion token, you get this from the programming assingment directly on coursera."
   ]
  },
  {
   "cell_type": "code",
   "execution_count": 7,
   "metadata": {},
   "outputs": [],
   "source": [
    "#your cloudant credentials go here\n",
    "# @hidden_cell\n",
    "credentials_1 = {\n",
    "  'password':\"\"\"f65***\"\"\",\n",
    "  'custom_url':'https://bf5***-bluemix:***-bluemix.cloudantnosqldb.appdomain.cloud',\n",
    "  'username':'bf5***-bluemix',\n",
    "  'url':'https://undefined'\n",
    "}\n"
   ]
  },
  {
   "cell_type": "code",
   "execution_count": 8,
   "metadata": {},
   "outputs": [],
   "source": [
    "spark = SparkSession\\\n",
    "    .builder\\\n",
    "    .appName(\"Cloudant Spark SQL Example in Python using temp tables\")\\\n",
    "    .config(\"cloudant.host\",credentials_1['custom_url'].split('@')[1])\\\n",
    "    .config(\"cloudant.username\", credentials_1['username'])\\\n",
    "    .config(\"cloudant.password\",credentials_1['password'])\\\n",
    "    .config(\"jsonstore.rdd.partitions\", 1)\\\n",
    "    .getOrCreate()"
   ]
  },
  {
   "cell_type": "code",
   "execution_count": 9,
   "metadata": {},
   "outputs": [
    {
     "name": "stdout",
     "output_type": "stream",
     "text": [
      "+-----+--------+-----+-----+-----+--------------------+--------------------+\n",
      "|CLASS|SENSORID|    X|    Y|    Z|                 _id|                _rev|\n",
      "+-----+--------+-----+-----+-----+--------------------+--------------------+\n",
      "|    1|asdfghjk| 0.42| 0.42| 0.42|0c94a1b5e2bdae808...|1-d7f2a717b33fb89...|\n",
      "|    1|asdfghjk| 0.47| 0.47| 0.47|0c94a1b5e2bdae808...|1-8917251bdea309f...|\n",
      "|    1|asdfghjk|-0.03|-0.03|-0.03|0c94a1b5e2bdae808...|1-485339f5e65ec62...|\n",
      "|    1|asdfghjk| 0.09| 0.09| 0.09|0c94a1b5e2bdae808...|1-7b1b13552f0d2e5...|\n",
      "|    1|asdfghjk| 0.78| 0.78| 0.78|0c94a1b5e2bdae808...|1-24a580badf50fd2...|\n",
      "|    1|asdfghjk|  0.2|  0.2|  0.2|0c94a1b5e2bdae808...|1-69169e513544473...|\n",
      "|    1|asdfghjk| 0.52| 0.52| 0.52|0c94a1b5e2bdae808...|1-3a9819a97ae307d...|\n",
      "|    1|asdfghjk| 0.69| 0.69| 0.69|0c94a1b5e2bdae808...|1-56901ac04cada12...|\n",
      "|    1|asdfghjk| 0.17| 0.17| 0.17|0c94a1b5e2bdae808...|1-4b0c693433515de...|\n",
      "|    1|asdfghjk| 1.15| 1.15| 1.15|0c94a1b5e2bdae808...|1-09102ae546ee910...|\n",
      "|    1|asdfghjk|-0.57|-0.57|-0.57|0c94a1b5e2bdae808...|1-220980a74bc3a7f...|\n",
      "|    1|asdfghjk| -0.3| -0.3| -0.3|0c94a1b5e2bdae808...|1-66a97fa5b1143e3...|\n",
      "|    1|asdfghjk| 0.13| 0.13| 0.13|0c94a1b5e2bdae808...|1-cc8ac67233f8ba3...|\n",
      "|    1|asdfghjk| 0.26| 0.26| 0.26|0c94a1b5e2bdae808...|1-03ac8c0fcef2c7a...|\n",
      "|    1|asdfghjk|-1.15|-1.15|-1.15|0c94a1b5e2bdae808...|1-31a263a0429608d...|\n",
      "|    1|asdfghjk| 0.92| 0.92| 0.92|0c94a1b5e2bdae808...|1-690f75695778d2a...|\n",
      "|    1|asdfghjk| 0.77| 0.77| 0.77|0c94a1b5e2bdae808...|1-87780486f3bb265...|\n",
      "|    1|asdfghjk| 0.01| 0.01| 0.01|0c94a1b5e2bdae808...|1-fd85da173ee7d20...|\n",
      "|    1|asdfghjk|-0.01|-0.01|-0.01|0c94a1b5e2bdae808...|1-bb9755a88325e43...|\n",
      "|    1|asdfghjk|  0.4|  0.4|  0.4|0c94a1b5e2bdae808...|1-d33d800fe00a866...|\n",
      "+-----+--------+-----+-----+-----+--------------------+--------------------+\n",
      "only showing top 20 rows\n",
      "\n"
     ]
    }
   ],
   "source": [
    "df=spark.read.load('shake', \"com.cloudant.spark\")\n",
    "\n",
    "df.createOrReplaceTempView(\"df\")\n",
    "spark.sql(\"SELECT * from df\").show()\n"
   ]
  },
  {
   "cell_type": "code",
   "execution_count": 11,
   "metadata": {},
   "outputs": [],
   "source": [
    "!rm -Rf a2_m1.parquet"
   ]
  },
  {
   "cell_type": "code",
   "execution_count": 12,
   "metadata": {},
   "outputs": [],
   "source": [
    "df = df.repartition(1)\n",
    "df.write.json('a2_m1.json')"
   ]
  },
  {
   "cell_type": "code",
   "execution_count": 13,
   "metadata": {},
   "outputs": [
    {
     "name": "stdout",
     "output_type": "stream",
     "text": [
      "--2018-12-25 17:17:21--  https://raw.githubusercontent.com/romeokienzler/developerWorks/master/coursera/ai/rklib.py\n",
      "Resolving raw.githubusercontent.com (raw.githubusercontent.com)... 151.101.48.133\n",
      "Connecting to raw.githubusercontent.com (raw.githubusercontent.com)|151.101.48.133|:443... connected.\n",
      "HTTP request sent, awaiting response... 200 OK\n",
      "Length: 2289 (2.2K) [text/plain]\n",
      "Saving to: ‘rklib.py’\n",
      "\n",
      "100%[======================================>] 2,289       --.-K/s   in 0s      \n",
      "\n",
      "2018-12-25 17:17:23 (13.0 MB/s) - ‘rklib.py’ saved [2289/2289]\n",
      "\n"
     ]
    }
   ],
   "source": [
    "!rm -f rklib.py\n",
    "!wget https://raw.githubusercontent.com/romeokienzler/developerWorks/master/coursera/ai/rklib.py"
   ]
  },
  {
   "cell_type": "code",
   "execution_count": 14,
   "metadata": {},
   "outputs": [
    {
     "name": "stdout",
     "output_type": "stream",
     "text": [
      "  adding: a2_m1.json/ (stored 0%)\r\n",
      "  adding: a2_m1.json/_SUCCESS (stored 0%)\r\n",
      "  adding: a2_m1.json/part-00000-eb0ac5dd-f348-414e-8d04-a882bbf205e4.json (deflated 84%)\r\n",
      "  adding: a2_m1.json/._SUCCESS.crc (stored 0%)\r\n",
      "  adding: a2_m1.json/.part-00000-eb0ac5dd-f348-414e-8d04-a882bbf205e4.json.crc (stored 0%)\r\n"
     ]
    }
   ],
   "source": [
    "!zip -r a2_m1.json.zip a2_m1.json"
   ]
  },
  {
   "cell_type": "code",
   "execution_count": 16,
   "metadata": {},
   "outputs": [],
   "source": [
    "!base64 a2_m1.json.zip > a2_m1.json.zip.base64"
   ]
  },
  {
   "cell_type": "code",
   "execution_count": 17,
   "metadata": {},
   "outputs": [
    {
     "name": "stdout",
     "output_type": "stream",
     "text": [
      "Submission successful, please check on the coursera grader page for the status\n",
      "-------------------------\n",
      "{\"elements\":[{\"itemId\":\"O8C69\",\"id\":\"f_F-qCtuEei_fRLwaVDk3g~O8C69~jFc3wQibEem7-g4LpU0M2g\",\"courseId\":\"f_F-qCtuEei_fRLwaVDk3g\"}],\"paging\":{},\"linked\":{}}\n",
      "-------------------------\n"
     ]
    }
   ],
   "source": [
    "from rklib import submit\n",
    "key = \"1injH2F0EeiLlRJ3eJKoXA\"\n",
    "part = \"wNLDt\"\n",
    "email = \"\"\n",
    "secret = \"\"\n",
    "\n",
    "with open('a2_m1.json.zip.base64', 'r') as myfile:\n",
    "    data=myfile.read()\n",
    "submit(email, secret, key, part, [part], data)"
   ]
  },
  {
   "cell_type": "code",
   "execution_count": null,
   "metadata": {},
   "outputs": [],
   "source": []
  }
 ],
 "metadata": {
  "kernelspec": {
   "display_name": "Python 3.5 with Spark 2.1",
   "language": "python",
   "name": "python3-spark21"
  },
  "language_info": {
   "codemirror_mode": {
    "name": "ipython",
    "version": 3
   },
   "file_extension": ".py",
   "mimetype": "text/x-python",
   "name": "python",
   "nbconvert_exporter": "python",
   "pygments_lexer": "ipython3",
   "version": "3.5.4"
  }
 },
 "nbformat": 4,
 "nbformat_minor": 1
}
