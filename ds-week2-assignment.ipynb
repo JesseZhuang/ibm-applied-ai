{
 "cells": [
  {
   "cell_type": "markdown",
   "metadata": {},
   "source": [
    "### Assignment 2\n",
    "Welcome to Assignment 2. This will be fun. It is the first time you actually access external data from ApacheSpark. \n",
    "\n",
    "Just make sure you hit the play button on each cell from top to down. There are three functions you have to implement. Please also make sure than on each change on a function you hit the play button again on the corresponding cell to make it available to the rest of this notebook.\n",
    "\n",
    "##### Please also make sure to only implement the function bodies and DON'T add any additional code outside functions since this might confuse the autograder."
   ]
  },
  {
   "cell_type": "markdown",
   "metadata": {},
   "source": [
    "So the function below is used to make it easy for you to create a data frame from a cloudant data frame using the so called \"DataSource\" which is some sort of a plugin which allows ApacheSpark to use different data sources."
   ]
  },
  {
   "cell_type": "markdown",
   "metadata": {},
   "source": [
    "This is the first function you have to implement. You are passed a dataframe object. We've also registered the dataframe in the ApacheSparkSQL catalog - so you can also issue queries against the \"washing\" table using \"spark.sql()\". Hint: To get an idea about the contents of the catalog you can use: spark.catalog.listTables().\n",
    "So now it's time to implement your first function. You are free to use the dataframe API, SQL or RDD API. In case you want to use the RDD API just obtain the encapsulated RDD using \"df.rdd\". You can test the function by running one of the three last cells of this notebook, but please make sure you run the cells from top to down since some are dependant of each other..."
   ]
  },
  {
   "cell_type": "code",
   "execution_count": 22,
   "metadata": {},
   "outputs": [],
   "source": [
    "def count(df,spark):\n",
    "    return df.count()"
   ]
  },
  {
   "cell_type": "markdown",
   "metadata": {},
   "source": [
    "No it's time to implement the second function. Please return an integer containing the number of fields. The most easy way to get this is using the dataframe API. Hint: You might find the dataframe API documentation useful: http://spark.apache.org/docs/latest/api/python/pyspark.sql.html#pyspark.sql.DataFrame"
   ]
  },
  {
   "cell_type": "code",
   "execution_count": 23,
   "metadata": {},
   "outputs": [],
   "source": [
    "def getNumberOfFields(df,spark):\n",
    "    return len(df.columns)"
   ]
  },
  {
   "cell_type": "markdown",
   "metadata": {},
   "source": [
    "Finally, please implement a function which returns a (python) list of string values of the field names in this data frame. Hint: Just copy&past doesn't work because the auto-grader will create a random data frame for testing, so please use the data frame API as well. Again, this is the link to the documentation: http://spark.apache.org/docs/latest/api/python/pyspark.sql.html#pyspark.sql.DataFrame"
   ]
  },
  {
   "cell_type": "code",
   "execution_count": 24,
   "metadata": {},
   "outputs": [],
   "source": [
    "def getFieldNames(df,spark):\n",
    "    return df.columns"
   ]
  },
  {
   "cell_type": "markdown",
   "metadata": {},
   "source": [
    "### PLEASE DON'T REMOVE THIS BLOCK - THE FOLLOWING CODE IS NOT GRADED\n",
    "#axx\n",
    "### PLEASE DON'T REMOVE THIS BLOCK - THE FOLLOWING CODE IS NOT GRADED\n",
    "So after this block you can basically do what you like since the auto-grader is not considering this part of the notebook"
   ]
  },
  {
   "cell_type": "markdown",
   "metadata": {},
   "source": [
    "Now it is time to connect to the cloudant database. Please have a look at the Video \"Overview of end-to-end scenario\" of Week 2 starting from 6:40 in order to learn how to obtain the credentials for the database. Please paste this credentials as strings into the below code\n",
    "\n",
    "### TODO Please provide your Cloudant credentials here"
   ]
  },
  {
   "cell_type": "code",
   "execution_count": 25,
   "metadata": {},
   "outputs": [],
   "source": [
    "### TODO Please provide your Cloudant credentials here by creating a connection to Cloudant and insert the code\n",
    "### Please have a look at the latest video \"Connect to Cloudant/CouchDB from ApacheSpark in Watson Studio\" on https://www.youtube.com/c/RomeoKienzler\n",
    "database = \"washing\" #as long as you didn't change this in the NodeRED flow the database name stays the same\n"
   ]
  },
  {
   "cell_type": "code",
   "execution_count": 26,
   "metadata": {},
   "outputs": [],
   "source": [
    "\n",
    "# @hidden_cell\n",
    "credentials_1 = {\n",
    "  'password':\"\"\"***\"\"\",\n",
    "  'custom_url':'https://***-bluemix.cloudantnosqldb.appdomain.cloud',\n",
    "  'username':'13b***',\n",
    "  'url':'https://undefined'\n",
    "}\n"
   ]
  },
  {
   "cell_type": "code",
   "execution_count": 27,
   "metadata": {},
   "outputs": [],
   "source": [
    "#Please don't modify this function\n",
    "def readDataFrameFromCloudant(database):\n",
    "    cloudantdata=spark.read.load(database, \"com.cloudant.spark\")\n",
    "\n",
    "    cloudantdata.createOrReplaceTempView(\"washing\")\n",
    "    spark.sql(\"SELECT * from washing\").show()\n",
    "    return cloudantdata"
   ]
  },
  {
   "cell_type": "code",
   "execution_count": 28,
   "metadata": {},
   "outputs": [],
   "source": [
    "spark = SparkSession\\\n",
    "    .builder\\\n",
    "    .appName(\"Cloudant Spark SQL Example in Python using temp tables\")\\\n",
    "    .config(\"cloudant.host\",credentials_1['custom_url'].split(':')[2].split('@')[1])\\\n",
    "    .config(\"cloudant.username\", credentials_1['username'])\\\n",
    "    .config(\"cloudant.password\",credentials_1['password'])\\\n",
    "    .config(\"jsonstore.rdd.partitions\", 1)\\\n",
    "    .getOrCreate()\n"
   ]
  },
  {
   "cell_type": "code",
   "execution_count": 29,
   "metadata": {},
   "outputs": [
    {
     "name": "stdout",
     "output_type": "stream",
     "text": [
      "+--------------------+--------------------+-----+--------+----------+---------+--------+-----+-----------+-------------+-------+\n",
      "|                 _id|                _rev|count|flowrate|fluidlevel|frequency|hardness|speed|temperature|           ts|voltage|\n",
      "+--------------------+--------------------+-----+--------+----------+---------+--------+-----+-----------+-------------+-------+\n",
      "|01324dc538b105fd2...|1-87cfcc827d6f90b...|    6|    null|      null|       74|    null| null|       null|1545603799008|    227|\n",
      "|01324dc538b105fd2...|1-0c3a73a38b6409d...|   26|      11|acceptable|     null|      72| null|         84|1545603807043|   null|\n",
      "|01324dc538b105fd2...|1-8acf51f5bc769b5...|   12|    null|      null|       72|    null| null|       null|1545603817021|    223|\n",
      "|01324dc538b105fd2...|1-4258edee3d134b7...|   15|    null|      null|       62|    null| null|       null|1545603826041|    226|\n",
      "|01324dc538b105fd2...|1-7c8b25b2f99aa78...|   20|    null|      null|       61|    null| null|       null|1545603841049|    239|\n",
      "|01324dc538b105fd2...|1-4401863bc316681...|   21|    null|      null|       68|    null| null|       null|1545603844052|    222|\n",
      "|01324dc538b105fd2...|1-219d9cea27f3186...|   64|      11|acceptable|     null|      73| null|         97|1545603845169|   null|\n",
      "|01324dc538b105fd2...|1-6983e9b7c0f2b9d...|   70|      11|acceptable|     null|      74| null|         90|1545603851182|   null|\n",
      "|01324dc538b105fd2...|1-03b8ab36d077fa0...|    1|      11|acceptable|     null|      71| null|         91|1545603853990|   null|\n",
      "|01324dc538b105fd2...|1-09f70f536ed2b87...|   13|      11|acceptable|     null|      77| null|         94|1545603866100|   null|\n",
      "|01324dc538b105fd2...|1-2fe76432e17cb10...|   19|      11|acceptable|     null|      71| null|         92|1545603872117|   null|\n",
      "|01324dc538b105fd2...|1-147379668cc003d...|   23|      11|acceptable|     null|      79| null|         92|1545603876128|   null|\n",
      "|01324dc538b105fd2...|1-646d6aa8dc63bed...|   29|      11|acceptable|     null|      72| null|         96|1545603882135|   null|\n",
      "|01324dc538b105fd2...|1-732564bba6ca2f1...|   32|      11|acceptable|     null|      76| null|         88|1545603885141|   null|\n",
      "|01324dc538b105fd2...|1-d97b1cb6c128143...|   13|    null|      null|       72|    null| null|       null|1545603892025|    228|\n",
      "|01324dc538b105fd2...|1-f178c876b78efa8...|   48|      11|acceptable|     null|      71| null|         88|1545603901241|   null|\n",
      "|01324dc538b105fd2...|1-49e4d42c4761ffb...|   51|      11|acceptable|     null|      77| null|         86|1545603904254|   null|\n",
      "|01324dc538b105fd2...|1-a9e6def9aedaef4...|   53|      11|acceptable|     null|      77| null|         87|1545603906258|   null|\n",
      "|01324dc538b105fd2...|1-a3877d5f7044d95...|   59|      11|acceptable|     null|      76| null|         80|1545603912268|   null|\n",
      "|01324dc538b105fd2...|1-05a878956e3afd9...|   60|      11|acceptable|     null|      73| null|         86|1545603913269|   null|\n",
      "+--------------------+--------------------+-----+--------+----------+---------+--------+-----+-----------+-------------+-------+\n",
      "only showing top 20 rows\n",
      "\n"
     ]
    }
   ],
   "source": [
    "df=readDataFrameFromCloudant(database)"
   ]
  },
  {
   "cell_type": "markdown",
   "metadata": {},
   "source": [
    "The following cell can be used to test your count function"
   ]
  },
  {
   "cell_type": "code",
   "execution_count": 30,
   "metadata": {},
   "outputs": [
    {
     "data": {
      "text/plain": [
       "1134"
      ]
     },
     "execution_count": 30,
     "metadata": {},
     "output_type": "execute_result"
    }
   ],
   "source": [
    "count(df,spark)"
   ]
  },
  {
   "cell_type": "markdown",
   "metadata": {},
   "source": [
    "The following cell can be used to test your getNumberOfFields function"
   ]
  },
  {
   "cell_type": "code",
   "execution_count": 31,
   "metadata": {},
   "outputs": [
    {
     "data": {
      "text/plain": [
       "11"
      ]
     },
     "execution_count": 31,
     "metadata": {},
     "output_type": "execute_result"
    }
   ],
   "source": [
    "getNumberOfFields(df,spark)"
   ]
  },
  {
   "cell_type": "markdown",
   "metadata": {},
   "source": [
    "The following cell can be used to test your getFieldNames function"
   ]
  },
  {
   "cell_type": "code",
   "execution_count": 33,
   "metadata": {},
   "outputs": [
    {
     "data": {
      "text/plain": [
       "['_id',\n",
       " '_rev',\n",
       " 'count',\n",
       " 'flowrate',\n",
       " 'fluidlevel',\n",
       " 'frequency',\n",
       " 'hardness',\n",
       " 'speed',\n",
       " 'temperature',\n",
       " 'ts',\n",
       " 'voltage']"
      ]
     },
     "execution_count": 33,
     "metadata": {},
     "output_type": "execute_result"
    }
   ],
   "source": [
    "getFieldNames(df,spark)"
   ]
  },
  {
   "cell_type": "markdown",
   "metadata": {},
   "source": [
    "Congratulations, you are done. So please export this notebook as python script using the \"File->Download as->Python (.py)\" option in the menue of this notebook. This file should be named \"assignment2.1.py\" and uploaded to the autograder of week2."
   ]
  }
 ],
 "metadata": {
  "kernelspec": {
   "display_name": "Python 3.5 with Spark 2.1",
   "language": "python",
   "name": "python3-spark21"
  },
  "language_info": {
   "codemirror_mode": {
    "name": "ipython",
    "version": 3
   },
   "file_extension": ".py",
   "mimetype": "text/x-python",
   "name": "python",
   "nbconvert_exporter": "python",
   "pygments_lexer": "ipython3",
   "version": "3.5.4"
  }
 },
 "nbformat": 4,
 "nbformat_minor": 1
}
