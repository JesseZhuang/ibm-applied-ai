{
 "cells": [
  {
   "cell_type": "markdown",
   "metadata": {},
   "source": [
    "This is the third assignment for the Coursera course \"Advanced Machine Learning and Signal Processing\"\n",
    "\n",
    "Again, please insert to code to your ApacheCouchDB based Cloudant instance below using the \"Insert Code\" function of Watson Studio (you've done this in Assignment 1 and 2 before)\n",
    "\n",
    "Done, just execute all cells one after the other and you are done - just note that in the last one you must update your email address (the one you've used for coursera) and obtain a submission token, you get this from the programming assignment directly on coursera.\n",
    "\n",
    "Please fill in the sections labelled with \"###YOUR_CODE_GOES_HERE###\"\n"
   ]
  },
  {
   "cell_type": "code",
   "execution_count": 4,
   "metadata": {},
   "outputs": [],
   "source": [
    "#your cloudant credentials go here\n",
    "# @hidden_cell\n",
    "credentials_1 = {\n",
    "  'password':\"\"\"be3***\"\"\",\n",
    "  'custom_url':'https://***bluemix.cloudantnosqldb.appdomain.cloud',\n",
    "  'username':'81f***',\n",
    "  'url':'https://undefined'\n",
    "}\n"
   ]
  },
  {
   "cell_type": "markdown",
   "metadata": {},
   "source": [
    "Let's create a SparkSession object and put the Cloudant credentials into it"
   ]
  },
  {
   "cell_type": "code",
   "execution_count": 5,
   "metadata": {},
   "outputs": [],
   "source": [
    "spark = SparkSession\\\n",
    "    .builder\\\n",
    "    .appName(\"Cloudant Spark SQL Example in Python using temp tables\")\\\n",
    "    .config(\"cloudant.host\",credentials_1['custom_url'].split('@')[1])\\\n",
    "    .config(\"cloudant.username\", credentials_1['username'])\\\n",
    "    .config(\"cloudant.password\",credentials_1['password'])\\\n",
    "    .config(\"jsonstore.rdd.partitions\", 1)\\\n",
    "    .getOrCreate()"
   ]
  },
  {
   "cell_type": "markdown",
   "metadata": {},
   "source": [
    "Now it’s time to have a look at the recorded sensor data. You should see data similar to the one exemplified below….\n"
   ]
  },
  {
   "cell_type": "code",
   "execution_count": 6,
   "metadata": {},
   "outputs": [
    {
     "name": "stdout",
     "output_type": "stream",
     "text": [
      "+-----+--------+-----+-----+-----+--------------------+--------------------+-----+-----+-----+\n",
      "|CLASS|SENSORID|    X|    Y|    Z|                 _id|                _rev|alpha| beta|gamma|\n",
      "+-----+--------+-----+-----+-----+--------------------+--------------------+-----+-----+-----+\n",
      "|    0|jessetes|-0.01|  0.0|-0.02|1237277a9f7af0b7b...|1-e4b914f142002a4...| 2.91|-0.76|-1.34|\n",
      "|    0|jessetes|-0.01|-0.02|-0.03|1237277a9f7af0b7b...|1-b38fa233bd0a73b...| 3.01|-0.76|-1.36|\n",
      "|    0|jessetes|-0.01|-0.01|-0.02|1237277a9f7af0b7b...|1-37f74929d781e73...| 3.01|-0.76|-1.36|\n",
      "|    0|jessetes|-0.02|-0.03|-0.03|1237277a9f7af0b7b...|1-f938b4f333f3660...| 3.01|-0.76|-1.36|\n",
      "|    0|jessetes|-0.01|-0.02|-0.01|1237277a9f7af0b7b...|1-e7d4fabc4259d65...| 3.01|-0.76|-1.36|\n",
      "|    0|jessetes|-0.01|  0.5|  0.0|1237277a9f7af0b7b...|1-dbb1922b34d39aa...| 3.01|-0.76|-1.36|\n",
      "|    0|jessetes|-0.02|  0.0|-0.02|1237277a9f7af0b7b...|1-47c0a24832cc255...| 3.01|-0.76|-1.36|\n",
      "|    0|jessetes|  0.0| 0.02|-0.01|1237277a9f7af0b7b...|1-b6f5321efe9f790...| 3.01|-0.76|-1.36|\n",
      "|    0|jessetes|-0.03| 0.01|-0.02|1237277a9f7af0b7b...|1-41eebbc750fb17f...| 2.91|-0.78|-1.32|\n",
      "|    0|jessetes| 0.01|  0.0|-0.02|1237277a9f7af0b7b...|1-0c93ddfc15438f8...| 2.91|-0.78|-1.32|\n",
      "|    0|jessetes|-0.01|  0.5|-0.01|1237277a9f7af0b7b...|1-8ee14cb14ac9842...| 2.91|-0.78|-1.32|\n",
      "|    0|jessetes| 0.01|  0.0|-0.02|1237277a9f7af0b7b...|1-0c93ddfc15438f8...| 2.91|-0.78|-1.32|\n",
      "|    0|jessetes| 0.01|-0.01|  0.0|1237277a9f7af0b7b...|1-427542498bfe4c0...| 2.81|-0.77| -1.3|\n",
      "|    0|jessetes|-0.02|  0.0|  0.0|1237277a9f7af0b7b...|1-42c5c94fdece812...| 2.81|-0.77| -1.3|\n",
      "|    0|jessetes|  0.0|  0.0|-0.03|1237277a9f7af0b7b...|1-1ff9e7deea8f5bb...| 2.81|-0.77| -1.3|\n",
      "|    0|jessetes| 0.49| 0.03|  0.0|1237277a9f7af0b7b...|1-12fd997f64997ba...| 2.81|-0.77| -1.3|\n",
      "|    0|jessetes|-0.03|-0.01|-0.01|1237277a9f7af0b7b...|1-1b29df7cb7cdbe6...| 2.71|-0.77| -1.3|\n",
      "|    0|jessetes|-0.03|-0.02|-0.05|1237277a9f7af0b7b...|1-7ba86d97de22c58...| 2.71|-0.77| -1.3|\n",
      "|    0|jessetes|-0.01|  0.0|-0.01|1237277a9f7af0b7b...|1-5fd780c2d11e7ce...| 2.61|-0.78|-1.28|\n",
      "|    0|jessetes|-0.01| 0.01|-0.01|1237277a9f7af0b7b...|1-bad933a1cb10e32...| 2.61|-0.78|-1.28|\n",
      "+-----+--------+-----+-----+-----+--------------------+--------------------+-----+-----+-----+\n",
      "only showing top 20 rows\n",
      "\n"
     ]
    }
   ],
   "source": [
    "df=spark.read.load('shake_classification', \"com.cloudant.spark\")\n",
    "\n",
    "df.createOrReplaceTempView(\"df\")\n",
    "spark.sql(\"SELECT * from df\").show()\n"
   ]
  },
  {
   "cell_type": "markdown",
   "metadata": {},
   "source": [
    "Let’s check if we have balanced classes – this means that we have roughly the same number of examples for each class we want to predict. This is important for classification but also helpful for clustering"
   ]
  },
  {
   "cell_type": "code",
   "execution_count": 7,
   "metadata": {},
   "outputs": [
    {
     "name": "stdout",
     "output_type": "stream",
     "text": [
      "+------------+-----+\n",
      "|count(class)|class|\n",
      "+------------+-----+\n",
      "|        2216|    0|\n",
      "|        2220|    1|\n",
      "+------------+-----+\n",
      "\n"
     ]
    }
   ],
   "source": [
    "spark.sql(\"SELECT count(class), class from df group by class\").show()"
   ]
  },
  {
   "cell_type": "markdown",
   "metadata": {},
   "source": [
    "Let's create a VectorAssembler which consumes columns X, Y and Z and produces a column “features”\n"
   ]
  },
  {
   "cell_type": "code",
   "execution_count": 8,
   "metadata": {},
   "outputs": [],
   "source": [
    "from pyspark.ml.feature import VectorAssembler\n",
    "vectorAssembler = VectorAssembler(inputCols=[\"X\",\"Y\",\"Z\"],\n",
    "                                  outputCol=\"features\")"
   ]
  },
  {
   "cell_type": "markdown",
   "metadata": {},
   "source": [
    "Please insatiate a clustering algorithm from the SparkML package and assign it to the clust variable. Here we don’t need to take care of the “CLASS” column since we are in unsupervised learning mode – so let’s pretend to not even have the “CLASS” column for now – but it will become very handy later in assessing the clustering performance. PLEASE NOTE – IN REAL-WORLD SCENARIOS THERE IS NO CLASS COLUMN – THEREFORE YOU CAN’T ASSESS CLASSIFICATION PERFORMANCE USING THIS COLUMN \n",
    "\n"
   ]
  },
  {
   "cell_type": "code",
   "execution_count": 9,
   "metadata": {},
   "outputs": [],
   "source": [
    "from pyspark.ml.clustering import KMeans\n",
    "\n",
    "clust = KMeans().setK(2).setSeed(1)"
   ]
  },
  {
   "cell_type": "markdown",
   "metadata": {},
   "source": [
    "Let’s train...\n"
   ]
  },
  {
   "cell_type": "code",
   "execution_count": 10,
   "metadata": {},
   "outputs": [],
   "source": [
    "from pyspark.ml import Pipeline\n",
    "pipeline = Pipeline(stages=[vectorAssembler, clust])\n",
    "model = pipeline.fit(df)"
   ]
  },
  {
   "cell_type": "markdown",
   "metadata": {},
   "source": [
    "...and evaluate..."
   ]
  },
  {
   "cell_type": "code",
   "execution_count": 11,
   "metadata": {},
   "outputs": [
    {
     "name": "stdout",
     "output_type": "stream",
     "text": [
      "+-----+--------+-----+-----+-----+--------------------+--------------------+-----+-----+-----+-------------------+----------+\n",
      "|CLASS|SENSORID|    X|    Y|    Z|                 _id|                _rev|alpha| beta|gamma|           features|prediction|\n",
      "+-----+--------+-----+-----+-----+--------------------+--------------------+-----+-----+-----+-------------------+----------+\n",
      "|    0|jessetes|-0.01|  0.0|-0.02|1237277a9f7af0b7b...|1-e4b914f142002a4...| 2.91|-0.76|-1.34|  [-0.01,0.0,-0.02]|         1|\n",
      "|    0|jessetes|-0.01|-0.02|-0.03|1237277a9f7af0b7b...|1-b38fa233bd0a73b...| 3.01|-0.76|-1.36|[-0.01,-0.02,-0.03]|         1|\n",
      "|    0|jessetes|-0.01|-0.01|-0.02|1237277a9f7af0b7b...|1-37f74929d781e73...| 3.01|-0.76|-1.36|[-0.01,-0.01,-0.02]|         1|\n",
      "|    0|jessetes|-0.02|-0.03|-0.03|1237277a9f7af0b7b...|1-f938b4f333f3660...| 3.01|-0.76|-1.36|[-0.02,-0.03,-0.03]|         1|\n",
      "|    0|jessetes|-0.01|-0.02|-0.01|1237277a9f7af0b7b...|1-e7d4fabc4259d65...| 3.01|-0.76|-1.36|[-0.01,-0.02,-0.01]|         1|\n",
      "|    0|jessetes|-0.01|  0.5|  0.0|1237277a9f7af0b7b...|1-dbb1922b34d39aa...| 3.01|-0.76|-1.36|    [-0.01,0.5,0.0]|         1|\n",
      "|    0|jessetes|-0.02|  0.0|-0.02|1237277a9f7af0b7b...|1-47c0a24832cc255...| 3.01|-0.76|-1.36|  [-0.02,0.0,-0.02]|         1|\n",
      "|    0|jessetes|  0.0| 0.02|-0.01|1237277a9f7af0b7b...|1-b6f5321efe9f790...| 3.01|-0.76|-1.36|   [0.0,0.02,-0.01]|         1|\n",
      "|    0|jessetes|-0.03| 0.01|-0.02|1237277a9f7af0b7b...|1-41eebbc750fb17f...| 2.91|-0.78|-1.32| [-0.03,0.01,-0.02]|         1|\n",
      "|    0|jessetes| 0.01|  0.0|-0.02|1237277a9f7af0b7b...|1-0c93ddfc15438f8...| 2.91|-0.78|-1.32|   [0.01,0.0,-0.02]|         1|\n",
      "|    0|jessetes|-0.01|  0.5|-0.01|1237277a9f7af0b7b...|1-8ee14cb14ac9842...| 2.91|-0.78|-1.32|  [-0.01,0.5,-0.01]|         1|\n",
      "|    0|jessetes| 0.01|  0.0|-0.02|1237277a9f7af0b7b...|1-0c93ddfc15438f8...| 2.91|-0.78|-1.32|   [0.01,0.0,-0.02]|         1|\n",
      "|    0|jessetes| 0.01|-0.01|  0.0|1237277a9f7af0b7b...|1-427542498bfe4c0...| 2.81|-0.77| -1.3|   [0.01,-0.01,0.0]|         1|\n",
      "|    0|jessetes|-0.02|  0.0|  0.0|1237277a9f7af0b7b...|1-42c5c94fdece812...| 2.81|-0.77| -1.3|    [-0.02,0.0,0.0]|         1|\n",
      "|    0|jessetes|  0.0|  0.0|-0.03|1237277a9f7af0b7b...|1-1ff9e7deea8f5bb...| 2.81|-0.77| -1.3|    [0.0,0.0,-0.03]|         1|\n",
      "|    0|jessetes| 0.49| 0.03|  0.0|1237277a9f7af0b7b...|1-12fd997f64997ba...| 2.81|-0.77| -1.3|    [0.49,0.03,0.0]|         1|\n",
      "|    0|jessetes|-0.03|-0.01|-0.01|1237277a9f7af0b7b...|1-1b29df7cb7cdbe6...| 2.71|-0.77| -1.3|[-0.03,-0.01,-0.01]|         1|\n",
      "|    0|jessetes|-0.03|-0.02|-0.05|1237277a9f7af0b7b...|1-7ba86d97de22c58...| 2.71|-0.77| -1.3|[-0.03,-0.02,-0.05]|         1|\n",
      "|    0|jessetes|-0.01|  0.0|-0.01|1237277a9f7af0b7b...|1-5fd780c2d11e7ce...| 2.61|-0.78|-1.28|  [-0.01,0.0,-0.01]|         1|\n",
      "|    0|jessetes|-0.01| 0.01|-0.01|1237277a9f7af0b7b...|1-bad933a1cb10e32...| 2.61|-0.78|-1.28| [-0.01,0.01,-0.01]|         1|\n",
      "+-----+--------+-----+-----+-----+--------------------+--------------------+-----+-----+-----+-------------------+----------+\n",
      "only showing top 20 rows\n",
      "\n"
     ]
    }
   ],
   "source": [
    "prediction = model.transform(df)\n",
    "prediction.show()"
   ]
  },
  {
   "cell_type": "code",
   "execution_count": 12,
   "metadata": {},
   "outputs": [
    {
     "data": {
      "text/plain": [
       "0.8216862037871957"
      ]
     },
     "execution_count": 12,
     "metadata": {},
     "output_type": "execute_result"
    }
   ],
   "source": [
    "prediction.createOrReplaceTempView('prediction')\n",
    "spark.sql('''\n",
    "select max(correct)/max(total) as accuracy from (\n",
    "\n",
    "    select sum(correct) as correct, count(correct) as total from (\n",
    "        select case when class != prediction then 1 else 0 end as correct from prediction \n",
    "    ) \n",
    "    \n",
    "    union\n",
    "    \n",
    "    select sum(correct) as correct, count(correct) as total from (\n",
    "        select case when class = prediction then 1 else 0 end as correct from prediction \n",
    "    ) \n",
    ")\n",
    "''').rdd.map(lambda row: row.accuracy).collect()[0]"
   ]
  },
  {
   "cell_type": "markdown",
   "metadata": {},
   "source": [
    "If you reached at least 55% of accuracy you are fine to submit your predictions to the grader. Otherwise please experiment with parameters setting to your clustering algorithm, use a different algorithm or just re-record your data and try to obtain. In case you are stuck, please use the Coursera Discussion Forum. Please note again – in a real-world scenario there is no way in doing this – since there is no class label in your data. Please have a look at this further reading on clustering performance evaluation https://en.wikipedia.org/wiki/Cluster_analysis#Evaluation_and_assessment\n"
   ]
  },
  {
   "cell_type": "code",
   "execution_count": 13,
   "metadata": {},
   "outputs": [],
   "source": [
    "!rm -Rf a2_m3.json"
   ]
  },
  {
   "cell_type": "code",
   "execution_count": 14,
   "metadata": {},
   "outputs": [
    {
     "name": "stdout",
     "output_type": "stream",
     "text": [
      "--2018-12-29 22:48:40--  https://raw.githubusercontent.com/romeokienzler/developerWorks/master/coursera/ai/rklib.py\n",
      "Resolving raw.githubusercontent.com (raw.githubusercontent.com)... 151.101.48.133\n",
      "Connecting to raw.githubusercontent.com (raw.githubusercontent.com)|151.101.48.133|:443... connected.\n",
      "HTTP request sent, awaiting response... 200 OK\n",
      "Length: 2289 (2.2K) [text/plain]\n",
      "Saving to: ‘rklib.py’\n",
      "\n",
      "100%[======================================>] 2,289       --.-K/s   in 0s      \n",
      "\n",
      "2018-12-29 22:48:40 (22.1 MB/s) - ‘rklib.py’ saved [2289/2289]\n",
      "\n"
     ]
    }
   ],
   "source": [
    "!rm -f rklib.py\n",
    "!wget https://raw.githubusercontent.com/romeokienzler/developerWorks/master/coursera/ai/rklib.py"
   ]
  },
  {
   "cell_type": "code",
   "execution_count": 15,
   "metadata": {},
   "outputs": [],
   "source": [
    "prediction= prediction.repartition(1)\n",
    "prediction.write.json('a2_m3.json')"
   ]
  },
  {
   "cell_type": "code",
   "execution_count": 16,
   "metadata": {},
   "outputs": [
    {
     "name": "stdout",
     "output_type": "stream",
     "text": [
      "  adding: a2_m3.json/ (stored 0%)\n",
      "  adding: a2_m3.json/_SUCCESS (stored 0%)\n",
      "  adding: a2_m3.json/._SUCCESS.crc (stored 0%)\n",
      "  adding: a2_m3.json/part-00000-c7115174-b0b5-4627-bb33-89a4b15fd226.json (deflated 81%)\n",
      "  adding: a2_m3.json/.part-00000-c7115174-b0b5-4627-bb33-89a4b15fd226.json.crc (stored 0%)\n"
     ]
    }
   ],
   "source": [
    "!zip -r a2_m3.json.zip a2_m3.json"
   ]
  },
  {
   "cell_type": "code",
   "execution_count": 17,
   "metadata": {},
   "outputs": [],
   "source": [
    "!base64 a2_m3.json.zip > a2_m3.json.zip.base64"
   ]
  },
  {
   "cell_type": "code",
   "execution_count": 18,
   "metadata": {},
   "outputs": [
    {
     "name": "stdout",
     "output_type": "stream",
     "text": [
      "Submission successful, please check on the coursera grader page for the status\n",
      "-------------------------\n",
      "{\"elements\":[{\"itemId\":\"Cu6KW\",\"id\":\"f_F-qCtuEei_fRLwaVDk3g~Cu6KW~R-IO3wvuEem_NQ6JYupVDA\",\"courseId\":\"f_F-qCtuEei_fRLwaVDk3g\"}],\"paging\":{},\"linked\":{}}\n",
      "-------------------------\n"
     ]
    }
   ],
   "source": [
    "from rklib import submit\n",
    "key = \"pPfm62VXEeiJOBL0dhxPkA\"\n",
    "part = \"EOTMs\"\n",
    "email = \"\"\n",
    "secret = \"\"\n",
    "\n",
    "with open('a2_m3.json.zip.base64', 'r') as myfile:\n",
    "    data=myfile.read()\n",
    "submit(email, secret, key, part, [part], data)"
   ]
  },
  {
   "cell_type": "code",
   "execution_count": null,
   "metadata": {},
   "outputs": [],
   "source": []
  }
 ],
 "metadata": {
  "kernelspec": {
   "display_name": "Python 3.5 with Spark 2.1",
   "language": "python",
   "name": "python3-spark21"
  },
  "language_info": {
   "codemirror_mode": {
    "name": "ipython",
    "version": 3
   },
   "file_extension": ".py",
   "mimetype": "text/x-python",
   "name": "python",
   "nbconvert_exporter": "python",
   "pygments_lexer": "ipython3",
   "version": "3.5.4"
  }
 },
 "nbformat": 4,
 "nbformat_minor": 1
}
