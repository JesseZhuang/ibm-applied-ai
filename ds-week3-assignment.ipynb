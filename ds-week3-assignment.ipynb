{
 "cells": [
  {
   "cell_type": "markdown",
   "metadata": {},
   "source": [
    "# Assignment 3\n",
    "\n",
    "Welcome to Assignment 3. This will be even more fun. Now we will calculate statistical measures on the test data you have created.\n",
    "\n",
    "YOU ARE NOT ALLOWED TO USE ANY OTHER 3RD PARTY LIBRARIES LIKE PANDAS. PLEASE ONLY MODIFY CONTENT INSIDE THE FUNCTION SKELETONS\n",
    "Please read why: https://www.coursera.org/learn/exploring-visualizing-iot-data/discussions/weeks/3/threads/skjCbNgeEeapeQ5W6suLkA\n",
    ". Just make sure you hit the play button on each cell from top to down. There are seven functions you have to implement. Please also make sure than on each change on a function you hit the play button again on the corresponding cell to make it available to the rest of this notebook.\n",
    "Please also make sure to only implement the function bodies and DON'T add any additional code outside functions since this might confuse the autograder.\n",
    "\n",
    "So the function below is used to make it easy for you to create a data frame from a cloudant data frame using the so called \"DataSource\" which is some sort of a plugin which allows ApacheSpark to use different data sources.\n"
   ]
  },
  {
   "cell_type": "markdown",
   "metadata": {},
   "source": [
    "All functions can be implemented using DataFrames, ApacheSparkSQL or RDDs. We are only interested in the result. You are given the reference to the data frame in the \"df\" parameter and in case you want to use SQL just use the \"spark\" parameter which is a reference to the global SparkSession object. Finally if you want to use RDDs just use \"df.rdd\" for obtaining a reference to the underlying RDD object. \n",
    "\n",
    "Let's start with the first function. Please calculate the minimal temperature for the test data set you have created. We've provided a little skeleton for you in case you want to use SQL. You can use this skeleton for all subsequent functions. Everything can be implemented using SQL only if you like."
   ]
  },
  {
   "cell_type": "code",
   "execution_count": 1,
   "metadata": {},
   "outputs": [],
   "source": [
    "def minTemperature(df,spark):\n",
    "    # return spark.sql(\"SELECT ##INSERT YOUR CODE HERE## as mintemp from washing\").first().mintemp\n",
    "    # return df.rdd.map(lambda d: d['temperature']).min() # Py4JJavaError None cannot be compard to int\n",
    "    # return df.rdd.min(key='temperature')\n",
    "    return df.rdd.map(lambda d: d['temperature']).filter(lambda x: x != None).min()"
   ]
  },
  {
   "cell_type": "markdown",
   "metadata": {},
   "source": [
    "Please now do the same for the mean of the temperature"
   ]
  },
  {
   "cell_type": "code",
   "execution_count": 2,
   "metadata": {},
   "outputs": [],
   "source": [
    "def meanTemperature(df,spark):\n",
    "    return df.rdd.map(lambda d: d['temperature']).filter(lambda x: x != None).mean()"
   ]
  },
  {
   "cell_type": "markdown",
   "metadata": {},
   "source": [
    "Please now do the same for the maximum of the temperature"
   ]
  },
  {
   "cell_type": "code",
   "execution_count": 3,
   "metadata": {},
   "outputs": [],
   "source": [
    "def maxTemperature(df,spark):\n",
    "    return df.rdd.map(lambda d: d['temperature']).filter(lambda x: x != None).max()"
   ]
  },
  {
   "cell_type": "markdown",
   "metadata": {},
   "source": [
    "Please now do the same for the standard deviation of the temperature"
   ]
  },
  {
   "cell_type": "code",
   "execution_count": 4,
   "metadata": {},
   "outputs": [],
   "source": [
    "def sdTemperature(df,spark):\n",
    "    return df.rdd.map(lambda d: d['temperature']).filter(lambda x: x != None).stdev()"
   ]
  },
  {
   "cell_type": "markdown",
   "metadata": {},
   "source": [
    "Please now do the same for the skew of the temperature. Since the SQL statement for this is a bit more complicated we've provided a skeleton for you. You have to insert custom code at four position in order to make the function work. Alternatively you can also remove everything and implement if on your own. Note that we are making use of two previously defined functions, so please make sure they are correct. Also note that we are making use of python's string formatting capabilitis where the results of the two function calls to \"meanTemperature\" and \"sdTemperature\" are inserted at the \"%s\" symbols in the SQL string."
   ]
  },
  {
   "cell_type": "code",
   "execution_count": 5,
   "metadata": {},
   "outputs": [],
   "source": [
    "def skewTemperature(df,spark):    \n",
    "#    return spark.sql(\"\"\"\n",
    "#SELECT \n",
    "#    (\n",
    "#        1/##INSERT YOUR CODE HERE##\n",
    "#    ) *\n",
    "#    SUM (\n",
    "#        POWER(##INSERT YOUR CODE HERE##-%s,3)/POWER(%s,3)\n",
    "#    )\n",
    "#\n",
    "#as ##INSERT YOUR CODE HERE## from washing\n",
    "#                    \"\"\" %(meanTemperature(df,spark),sdTemperature(df,spark)))##INSERT YOUR CODE HERE##\n",
    "    temperatures = df.rdd.map(lambda d: d['temperature']).filter(lambda x: x != None)\n",
    "    m = temperatures.mean()\n",
    "    sd = temperatures.stdev()\n",
    "    n = temperatures.count()\n",
    "    return temperatures.map(lambda t: pow(t-m, 3)).sum()/n/pow(sd, 3)"
   ]
  },
  {
   "cell_type": "markdown",
   "metadata": {},
   "source": [
    "Kurtosis is the 4th statistical moment, so if you are smart you can make use of the code for skew which is the 3rd statistical moment. Actually only two things are different."
   ]
  },
  {
   "cell_type": "code",
   "execution_count": 6,
   "metadata": {},
   "outputs": [],
   "source": [
    "def kurtosisTemperature(df,spark):    \n",
    "    temperatures = df.rdd.map(lambda d: d['temperature']).filter(lambda x: x != None)\n",
    "    print(temperatures.take(10))\n",
    "    m = temperatures.mean()\n",
    "    sd = temperatures.stdev()\n",
    "    n = temperatures.count()\n",
    "    return temperatures.map(lambda t: pow(t-m, 4)).sum()/n/pow(sd, 4)"
   ]
  },
  {
   "cell_type": "markdown",
   "metadata": {},
   "source": [
    "Just a hint. This can be solved easily using SQL as well, but as shown in the lecture also using RDDs."
   ]
  },
  {
   "cell_type": "code",
   "execution_count": 7,
   "metadata": {},
   "outputs": [],
   "source": [
    "def correlation(rdd1, rdd2):\n",
    "    mean1 = rdd1.mean()\n",
    "    mean2 = rdd2.mean()\n",
    "    sd1 = rdd1.stdev()\n",
    "    sd2 = rdd2.stdev()\n",
    "    rdd12 = rdd1.zip(rdd2)\n",
    "    cov = rdd12.map(lambda r: (r[0]-mean1)*(r[1]-mean2)).sum()/float(rdd12.count())\n",
    "    return cov/(sd1 * sd2)"
   ]
  },
  {
   "cell_type": "code",
   "execution_count": 8,
   "metadata": {},
   "outputs": [],
   "source": [
    "def correlationTemperatureHardness(df,spark):\n",
    "    # data = df.rdd.map(lambda d: (d['temperature'], d['hardness'])).filter(lambda r: r[0] != None and r[1] == None)\n",
    "    temperature = df.rdd.map(lambda d: d['temperature']).filter(lambda x: x != None)\n",
    "    hardness = df.rdd.map(lambda d: d['hardness']).filter(lambda x: x != None)\n",
    "    return correlation(temperature, hardness)"
   ]
  },
  {
   "cell_type": "code",
   "execution_count": 9,
   "metadata": {},
   "outputs": [],
   "source": [
    "def getTemperatureHardness(df,spark):\n",
    "    return df.rdd.map(lambda d: [d['temperature'],d['hardness']]).filter(lambda r: r[0] != None)"
   ]
  },
  {
   "cell_type": "markdown",
   "metadata": {},
   "source": [
    "### PLEASE DON'T REMOVE THIS BLOCK - THE FOLLOWING CODE IS NOT GRADED\n",
    "#axx\n",
    "### PLEASE DON'T REMOVE THIS BLOCK - THE FOLLOWING CODE IS NOT GRADED"
   ]
  },
  {
   "cell_type": "markdown",
   "metadata": {},
   "source": [
    "Now it is time to connect to the cloudant database. Please have a look at the Video \"Overview of end-to-end scenario\" of Week 2 starting from 6:40 in order to learn how to obtain the credentials for the database. Please paste this credentials as strings into the below code\n",
    "\n",
    "### TODO Please provide your Cloudant credentials here"
   ]
  },
  {
   "cell_type": "code",
   "execution_count": 10,
   "metadata": {},
   "outputs": [],
   "source": [
    "### TODO Please provide your Cloudant credentials here by creating a connection to Cloudant and insert the code\n",
    "### Please have a look at the latest video \"Connect to Cloudant/CouchDB from ApacheSpark in Watson Studio\" on https://www.youtube.com/c/RomeoKienzler\n",
    "database = \"washing\" #as long as you didn't change this in the NodeRED flow the database name stays the same\n"
   ]
  },
  {
   "cell_type": "code",
   "execution_count": 11,
   "metadata": {},
   "outputs": [],
   "source": [
    "# @hidden_cell\n",
    "credentials_1 = {\n",
    "  'password':\"\"\"95d***\"\"\",\n",
    "  'custom_url':'https://***-bluemix.cloudantnosqldb.appdomain.cloud',\n",
    "  'username':'13b***',\n",
    "  'url':'https://undefined'\n",
    "}"
   ]
  },
  {
   "cell_type": "code",
   "execution_count": 12,
   "metadata": {},
   "outputs": [],
   "source": [
    "#Please don't modify this function\n",
    "def readDataFrameFromCloudant(database):\n",
    "    cloudantdata=spark.read.load(database, \"com.cloudant.spark\")\n",
    "\n",
    "    cloudantdata.createOrReplaceTempView(\"washing\")\n",
    "    spark.sql(\"SELECT * from washing\").show()\n",
    "    return cloudantdata"
   ]
  },
  {
   "cell_type": "code",
   "execution_count": 13,
   "metadata": {},
   "outputs": [],
   "source": [
    "spark = SparkSession\\\n",
    "    .builder\\\n",
    "    .appName(\"Cloudant Spark SQL Example in Python using temp tables\")\\\n",
    "    .config(\"cloudant.host\",credentials_1['custom_url'].split(':')[2].split('@')[1])\\\n",
    "    .config(\"cloudant.username\", credentials_1['username'])\\\n",
    "    .config(\"cloudant.password\",credentials_1['password'])\\\n",
    "    .config(\"jsonstore.rdd.partitions\", 1)\\\n",
    "    .getOrCreate()\n"
   ]
  },
  {
   "cell_type": "code",
   "execution_count": 14,
   "metadata": {},
   "outputs": [
    {
     "name": "stdout",
     "output_type": "stream",
     "text": [
      "+--------------------+--------------------+-----+--------+----------+---------+--------+-----+-----------+-------------+-------+\n",
      "|                 _id|                _rev|count|flowrate|fluidlevel|frequency|hardness|speed|temperature|           ts|voltage|\n",
      "+--------------------+--------------------+-----+--------+----------+---------+--------+-----+-----------+-------------+-------+\n",
      "|01324dc538b105fd2...|1-87cfcc827d6f90b...|    6|    null|      null|       74|    null| null|       null|1545603799008|    227|\n",
      "|01324dc538b105fd2...|1-0c3a73a38b6409d...|   26|      11|acceptable|     null|      72| null|         84|1545603807043|   null|\n",
      "|01324dc538b105fd2...|1-8acf51f5bc769b5...|   12|    null|      null|       72|    null| null|       null|1545603817021|    223|\n",
      "|01324dc538b105fd2...|1-4258edee3d134b7...|   15|    null|      null|       62|    null| null|       null|1545603826041|    226|\n",
      "|01324dc538b105fd2...|1-7c8b25b2f99aa78...|   20|    null|      null|       61|    null| null|       null|1545603841049|    239|\n",
      "|01324dc538b105fd2...|1-4401863bc316681...|   21|    null|      null|       68|    null| null|       null|1545603844052|    222|\n",
      "|01324dc538b105fd2...|1-219d9cea27f3186...|   64|      11|acceptable|     null|      73| null|         97|1545603845169|   null|\n",
      "|01324dc538b105fd2...|1-6983e9b7c0f2b9d...|   70|      11|acceptable|     null|      74| null|         90|1545603851182|   null|\n",
      "|01324dc538b105fd2...|1-03b8ab36d077fa0...|    1|      11|acceptable|     null|      71| null|         91|1545603853990|   null|\n",
      "|01324dc538b105fd2...|1-09f70f536ed2b87...|   13|      11|acceptable|     null|      77| null|         94|1545603866100|   null|\n",
      "|01324dc538b105fd2...|1-2fe76432e17cb10...|   19|      11|acceptable|     null|      71| null|         92|1545603872117|   null|\n",
      "|01324dc538b105fd2...|1-147379668cc003d...|   23|      11|acceptable|     null|      79| null|         92|1545603876128|   null|\n",
      "|01324dc538b105fd2...|1-646d6aa8dc63bed...|   29|      11|acceptable|     null|      72| null|         96|1545603882135|   null|\n",
      "|01324dc538b105fd2...|1-732564bba6ca2f1...|   32|      11|acceptable|     null|      76| null|         88|1545603885141|   null|\n",
      "|01324dc538b105fd2...|1-d97b1cb6c128143...|   13|    null|      null|       72|    null| null|       null|1545603892025|    228|\n",
      "|01324dc538b105fd2...|1-f178c876b78efa8...|   48|      11|acceptable|     null|      71| null|         88|1545603901241|   null|\n",
      "|01324dc538b105fd2...|1-49e4d42c4761ffb...|   51|      11|acceptable|     null|      77| null|         86|1545603904254|   null|\n",
      "|01324dc538b105fd2...|1-a9e6def9aedaef4...|   53|      11|acceptable|     null|      77| null|         87|1545603906258|   null|\n",
      "|01324dc538b105fd2...|1-a3877d5f7044d95...|   59|      11|acceptable|     null|      76| null|         80|1545603912268|   null|\n",
      "|01324dc538b105fd2...|1-05a878956e3afd9...|   60|      11|acceptable|     null|      73| null|         86|1545603913269|   null|\n",
      "+--------------------+--------------------+-----+--------+----------+---------+--------+-----+-----------+-------------+-------+\n",
      "only showing top 20 rows\n",
      "\n"
     ]
    }
   ],
   "source": [
    "df=readDataFrameFromCloudant(database)"
   ]
  },
  {
   "cell_type": "code",
   "execution_count": 15,
   "metadata": {},
   "outputs": [
    {
     "data": {
      "text/plain": [
       "80"
      ]
     },
     "execution_count": 15,
     "metadata": {},
     "output_type": "execute_result"
    }
   ],
   "source": [
    "minTemperature(df,spark)"
   ]
  },
  {
   "cell_type": "code",
   "execution_count": 16,
   "metadata": {},
   "outputs": [
    {
     "data": {
      "text/plain": [
       "89.87983193277319"
      ]
     },
     "execution_count": 16,
     "metadata": {},
     "output_type": "execute_result"
    }
   ],
   "source": [
    "meanTemperature(df,spark)"
   ]
  },
  {
   "cell_type": "code",
   "execution_count": 17,
   "metadata": {},
   "outputs": [
    {
     "data": {
      "text/plain": [
       "100"
      ]
     },
     "execution_count": 17,
     "metadata": {},
     "output_type": "execute_result"
    }
   ],
   "source": [
    "maxTemperature(df,spark)"
   ]
  },
  {
   "cell_type": "code",
   "execution_count": 18,
   "metadata": {},
   "outputs": [
    {
     "data": {
      "text/plain": [
       "6.0064262481341109"
      ]
     },
     "execution_count": 18,
     "metadata": {},
     "output_type": "execute_result"
    }
   ],
   "source": [
    "sdTemperature(df,spark)"
   ]
  },
  {
   "cell_type": "code",
   "execution_count": 19,
   "metadata": {},
   "outputs": [
    {
     "data": {
      "text/plain": [
       "0.04416297723773676"
      ]
     },
     "execution_count": 19,
     "metadata": {},
     "output_type": "execute_result"
    }
   ],
   "source": [
    "skewTemperature(df,spark)"
   ]
  },
  {
   "cell_type": "code",
   "execution_count": 20,
   "metadata": {},
   "outputs": [
    {
     "name": "stdout",
     "output_type": "stream",
     "text": [
      "[84, 97, 90, 91, 94, 92, 92, 96, 88, 88]\n"
     ]
    },
    {
     "data": {
      "text/plain": [
       "1.7861206886004848"
      ]
     },
     "execution_count": 20,
     "metadata": {},
     "output_type": "execute_result"
    }
   ],
   "source": [
    "kurtosisTemperature(df,spark)"
   ]
  },
  {
   "cell_type": "code",
   "execution_count": 21,
   "metadata": {},
   "outputs": [
    {
     "data": {
      "text/plain": [
       "0.014257787056422068"
      ]
     },
     "execution_count": 21,
     "metadata": {},
     "output_type": "execute_result"
    }
   ],
   "source": [
    "correlationTemperatureHardness(df,spark)"
   ]
  },
  {
   "cell_type": "code",
   "execution_count": 22,
   "metadata": {},
   "outputs": [
    {
     "data": {
      "text/plain": [
       "PythonRDD[39] at RDD at PythonRDD.scala:49"
      ]
     },
     "execution_count": 22,
     "metadata": {},
     "output_type": "execute_result"
    }
   ],
   "source": [
    "getTemperatureHardness(df,spark)"
   ]
  },
  {
   "cell_type": "code",
   "execution_count": 23,
   "metadata": {},
   "outputs": [
    {
     "name": "stdout",
     "output_type": "stream",
     "text": [
      "[[ 1.          0.01425779]\n",
      " [ 0.01425779  1.        ]]\n"
     ]
    }
   ],
   "source": [
    "from pyspark.mllib.stat import Statistics\n",
    "\n",
    "data = getTemperatureHardness(df,spark)\n",
    "print(Statistics.corr(data))"
   ]
  },
  {
   "cell_type": "markdown",
   "metadata": {},
   "source": [
    "Congratulations, you are done, please download this notebook as python file using the export function and submit is to the gader using the filename \"assignment3.1.py\""
   ]
  }
 ],
 "metadata": {
  "kernelspec": {
   "display_name": "Python 3.5 with Spark 2.1",
   "language": "python",
   "name": "python3-spark21"
  },
  "language_info": {
   "codemirror_mode": {
    "name": "ipython",
    "version": 3
   },
   "file_extension": ".py",
   "mimetype": "text/x-python",
   "name": "python",
   "nbconvert_exporter": "python",
   "pygments_lexer": "ipython3",
   "version": "3.5.4"
  }
 },
 "nbformat": 4,
 "nbformat_minor": 1
}
